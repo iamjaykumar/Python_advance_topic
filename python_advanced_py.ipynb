{
  "nbformat": 4,
  "nbformat_minor": 0,
  "metadata": {
    "colab": {
      "provenance": [],
      "gpuType": "T4",
      "authorship_tag": "ABX9TyMt/muvooL+gbSeJ4aJ1Kg5",
      "include_colab_link": true
    },
    "kernelspec": {
      "name": "python3",
      "display_name": "Python 3"
    },
    "language_info": {
      "name": "python"
    }
  },
  "cells": [
    {
      "cell_type": "markdown",
      "metadata": {
        "id": "view-in-github",
        "colab_type": "text"
      },
      "source": [
        "<a href=\"https://colab.research.google.com/github/iamjaykumar/Python_advance_topic/blob/main/python_advanced_py.ipynb\" target=\"_parent\"><img src=\"https://colab.research.google.com/assets/colab-badge.svg\" alt=\"Open In Colab\"/></a>"
      ]
    },
    {
      "cell_type": "markdown",
      "source": [
        "#Comprehension in python\n"
      ],
      "metadata": {
        "id": "rYNpZ0Fvnemm"
      }
    },
    {
      "cell_type": "markdown",
      "source": [
        "Comprehensions in Python provide a concise and efficient way to create new sequences from existing ones. They enhance code readability and reduce the need for lengthy loops. Python supports four types of comprehensions:\n",
        "\n",
        "List Comprehensions\n",
        "Dictionary Comprehensions\n",
        "Set Comprehensions\n",
        "Generator Comprehensions"
      ],
      "metadata": {
        "id": "y61oqbUFpTYg"
      }
    },
    {
      "cell_type": "code",
      "source": [
        "l = [1,2,3,4,45,5]\n",
        "l1 = []\n",
        "for i in l:\n",
        "  l1.append(i**2)"
      ],
      "metadata": {
        "id": "dMOm0pPGpWXc"
      },
      "execution_count": null,
      "outputs": []
    },
    {
      "cell_type": "code",
      "source": [
        "l1"
      ],
      "metadata": {
        "colab": {
          "base_uri": "https://localhost:8080/"
        },
        "id": "_imVcO2LpmmW",
        "outputId": "fcedff80-a668-4388-d299-38b754db4b41"
      },
      "execution_count": null,
      "outputs": [
        {
          "output_type": "execute_result",
          "data": {
            "text/plain": [
              "[1, 4, 9, 16, 2025, 25]"
            ]
          },
          "metadata": {},
          "execution_count": 6
        }
      ]
    },
    {
      "cell_type": "markdown",
      "source": [
        "These can be done with the help of comprehension in one line in python\n"
      ],
      "metadata": {
        "id": "kr5c7G_2p0fX"
      }
    },
    {
      "cell_type": "code",
      "source": [
        "l"
      ],
      "metadata": {
        "colab": {
          "base_uri": "https://localhost:8080/"
        },
        "id": "ES2-EAtsp9do",
        "outputId": "a5607210-bc40-4710-a467-af3c0e958d1b"
      },
      "execution_count": null,
      "outputs": [
        {
          "output_type": "execute_result",
          "data": {
            "text/plain": [
              "[1, 2, 3, 4, 45, 5]"
            ]
          },
          "metadata": {},
          "execution_count": 7
        }
      ]
    },
    {
      "cell_type": "code",
      "source": [
        "[i**2 for i in l] #do i**2, in for loop"
      ],
      "metadata": {
        "id": "oqk22zDvqAz9"
      },
      "execution_count": null,
      "outputs": []
    },
    {
      "cell_type": "code",
      "source": [
        "#getting even number\n",
        "[i for i in l if i%2 == 0]"
      ],
      "metadata": {
        "id": "gDG_ScDDsBqz"
      },
      "execution_count": null,
      "outputs": []
    },
    {
      "cell_type": "code",
      "source": [
        "l1 = [\"sudh\", \"pwskills\", \"kumar\", \"data science masters\"]"
      ],
      "metadata": {
        "id": "PnGWrDutsg_h"
      },
      "execution_count": null,
      "outputs": []
    },
    {
      "cell_type": "code",
      "source": [
        "[i.upper() for i in l1]"
      ],
      "metadata": {
        "id": "_VNoxg0vspFS"
      },
      "execution_count": null,
      "outputs": []
    },
    {
      "cell_type": "code",
      "source": [
        "# same thing will happen in tuple\n",
        "l\n",
        "list(i**2 for i in l)"
      ],
      "metadata": {
        "id": "0VrkYaqhsx_W"
      },
      "execution_count": null,
      "outputs": []
    },
    {
      "cell_type": "markdown",
      "source": [
        "Comprehension in dictionary"
      ],
      "metadata": {
        "id": "7hE7_6-RtI0P"
      }
    },
    {
      "cell_type": "code",
      "source": [
        "d = {\"key1\":1, \"key2\":2, \"key3\":3, \"key4\":4}"
      ],
      "metadata": {
        "id": "pMDTzB1AtMeI"
      },
      "execution_count": null,
      "outputs": []
    },
    {
      "cell_type": "code",
      "source": [
        "d.items()\n",
        "d"
      ],
      "metadata": {
        "id": "_iKj-EMOtV7k"
      },
      "execution_count": null,
      "outputs": []
    },
    {
      "cell_type": "code",
      "source": [
        "{k:v**2 for k, v in d.items()}"
      ],
      "metadata": {
        "colab": {
          "base_uri": "https://localhost:8080/"
        },
        "id": "aXYk0LL1tgKK",
        "outputId": "d9542f8d-8c93-430f-b05b-fb737f11aaf4"
      },
      "execution_count": null,
      "outputs": [
        {
          "output_type": "execute_result",
          "data": {
            "text/plain": [
              "{'key1': 1, 'key2': 4, 'key3': 9, 'key4': 16}"
            ]
          },
          "metadata": {},
          "execution_count": 17
        }
      ]
    },
    {
      "cell_type": "code",
      "source": [
        "{k:v for k, v in d.items() if v>1} # key value pair, in loop then condition."
      ],
      "metadata": {
        "colab": {
          "base_uri": "https://localhost:8080/"
        },
        "id": "IyNtvuJrt4Jv",
        "outputId": "68510db2-afce-4eca-d22b-4287c3f4daa2"
      },
      "execution_count": null,
      "outputs": [
        {
          "output_type": "execute_result",
          "data": {
            "text/plain": [
              "{'key2': 2, 'key3': 3, 'key4': 4}"
            ]
          },
          "metadata": {},
          "execution_count": 19
        }
      ]
    },
    {
      "cell_type": "markdown",
      "source": [
        "# Generator function in python\n"
      ],
      "metadata": {
        "id": "SQ1saTyf0eaz"
      }
    },
    {
      "cell_type": "markdown",
      "source": [
        "yield: Produce a sequence of values\n",
        "  *Purpose: Pause the function, saving its state and yields(throw) a value to the caller.\n",
        "  *Behavior: The function can be resumed later, continuing execution from where it left off. This makes it a generator.\n",
        "  *Use Case: When you want to produce a sequence of values lazily, especially useful for large datasets or streams. USED IN GENERATOR FUNCTION.\n",
        "\n",
        "return: Exit and Return a Value\n",
        "  *Purpose: Exits the function and returns a value to the caller.\n",
        "  *Behavior: Once a return statement is executed, the function terminates, and no further code in the function is executed.\n",
        "  *Use Case: When you want to compute a value and send it back immediately."
      ],
      "metadata": {
        "id": "nx3-MsGB1swX"
      }
    },
    {
      "cell_type": "code",
      "source": [
        "range(10)\n"
      ],
      "metadata": {
        "colab": {
          "base_uri": "https://localhost:8080/"
        },
        "id": "4RI8MAC74acV",
        "outputId": "3240537f-21ed-4b07-f20b-d578a8730094"
      },
      "execution_count": null,
      "outputs": [
        {
          "output_type": "execute_result",
          "data": {
            "text/plain": [
              "range(0, 10)"
            ]
          },
          "metadata": {},
          "execution_count": 1
        }
      ]
    },
    {
      "cell_type": "code",
      "source": [
        "for i in range(10):\n",
        "  print(i)"
      ],
      "metadata": {
        "colab": {
          "base_uri": "https://localhost:8080/"
        },
        "id": "n6uMT-Ml43ZL",
        "outputId": "d094af2c-56f7-45ec-fe48-6535f95b8275"
      },
      "execution_count": null,
      "outputs": [
        {
          "output_type": "stream",
          "name": "stdout",
          "text": [
            "0\n",
            "1\n",
            "2\n",
            "3\n",
            "4\n",
            "5\n",
            "6\n",
            "7\n",
            "8\n",
            "9\n"
          ]
        }
      ]
    },
    {
      "cell_type": "code",
      "source": [
        "def test_fib(n):\n",
        "  a,b = 0,1\n",
        "  for i in range(n):\n",
        "    yield a\n",
        "    a,b = b, a+b"
      ],
      "metadata": {
        "id": "WCnN9kt_5HCa"
      },
      "execution_count": null,
      "outputs": []
    },
    {
      "cell_type": "code",
      "source": [
        "test_fib(10)"
      ],
      "metadata": {
        "colab": {
          "base_uri": "https://localhost:8080/"
        },
        "id": "JsCePbd95XS7",
        "outputId": "6c8735c7-9eb6-41f9-d6c4-72dce8dfa7ca"
      },
      "execution_count": null,
      "outputs": [
        {
          "output_type": "execute_result",
          "data": {
            "text/plain": [
              "<generator object test_fib at 0x7ab60bc21b70>"
            ]
          },
          "metadata": {},
          "execution_count": 5
        }
      ]
    },
    {
      "cell_type": "code",
      "source": [
        "for i in test_fib(10):\n",
        "  print(i)"
      ],
      "metadata": {
        "colab": {
          "base_uri": "https://localhost:8080/"
        },
        "id": "u0wTS22s5nyy",
        "outputId": "58c5da9c-7df2-421a-dc65-1568273edb82"
      },
      "execution_count": null,
      "outputs": [
        {
          "output_type": "stream",
          "name": "stdout",
          "text": [
            "0\n",
            "1\n",
            "1\n",
            "2\n",
            "3\n",
            "5\n",
            "8\n",
            "13\n",
            "21\n",
            "34\n"
          ]
        }
      ]
    },
    {
      "cell_type": "code",
      "source": [
        "s = \"sudh\""
      ],
      "metadata": {
        "id": "8FOCwujD5trN"
      },
      "execution_count": null,
      "outputs": []
    },
    {
      "cell_type": "code",
      "source": [
        "for i in s:\n",
        "  print(i)"
      ],
      "metadata": {
        "colab": {
          "base_uri": "https://localhost:8080/"
        },
        "id": "Pq8nqbhX7FVt",
        "outputId": "eb9314a7-2196-4087-8ecc-083c9a569687"
      },
      "execution_count": null,
      "outputs": [
        {
          "output_type": "stream",
          "name": "stdout",
          "text": [
            "s\n",
            "u\n",
            "d\n",
            "h\n"
          ]
        }
      ]
    },
    {
      "cell_type": "code",
      "source": [
        "s"
      ],
      "metadata": {
        "colab": {
          "base_uri": "https://localhost:8080/",
          "height": 36
        },
        "id": "ZBGp0nq97PAp",
        "outputId": "0add454e-4fb0-47f9-d388-998abc70d8a3"
      },
      "execution_count": null,
      "outputs": [
        {
          "output_type": "execute_result",
          "data": {
            "text/plain": [
              "'sudh'"
            ],
            "application/vnd.google.colaboratory.intrinsic+json": {
              "type": "string"
            }
          },
          "metadata": {},
          "execution_count": 10
        }
      ]
    },
    {
      "cell_type": "code",
      "source": [
        "next(s)"
      ],
      "metadata": {
        "colab": {
          "base_uri": "https://localhost:8080/",
          "height": 146
        },
        "id": "bYZdtifD7YZS",
        "outputId": "f143e4ed-051a-40b4-8d03-03175c2aecd6"
      },
      "execution_count": null,
      "outputs": [
        {
          "output_type": "error",
          "ename": "TypeError",
          "evalue": "'str' object is not an iterator",
          "traceback": [
            "\u001b[0;31m---------------------------------------------------------------------------\u001b[0m",
            "\u001b[0;31mTypeError\u001b[0m                                 Traceback (most recent call last)",
            "\u001b[0;32m<ipython-input-11-61c30b5fe1d5>\u001b[0m in \u001b[0;36m<cell line: 0>\u001b[0;34m()\u001b[0m\n\u001b[0;32m----> 1\u001b[0;31m \u001b[0mnext\u001b[0m\u001b[0;34m(\u001b[0m\u001b[0ms\u001b[0m\u001b[0;34m)\u001b[0m\u001b[0;34m\u001b[0m\u001b[0;34m\u001b[0m\u001b[0m\n\u001b[0m",
            "\u001b[0;31mTypeError\u001b[0m: 'str' object is not an iterator"
          ]
        }
      ]
    },
    {
      "cell_type": "code",
      "source": [
        "s_iter = iter(s)"
      ],
      "metadata": {
        "id": "XgzI3O8x7aou"
      },
      "execution_count": null,
      "outputs": []
    },
    {
      "cell_type": "code",
      "source": [
        "next(s_iter)"
      ],
      "metadata": {
        "colab": {
          "base_uri": "https://localhost:8080/",
          "height": 36
        },
        "id": "w690fwqf9ra3",
        "outputId": "c44e3048-5729-4510-bcdc-e80d125fd8a5"
      },
      "execution_count": null,
      "outputs": [
        {
          "output_type": "execute_result",
          "data": {
            "text/plain": [
              "'d'"
            ],
            "application/vnd.google.colaboratory.intrinsic+json": {
              "type": "string"
            }
          },
          "metadata": {},
          "execution_count": 3
        }
      ]
    },
    {
      "cell_type": "code",
      "source": [
        "next(s_iter)"
      ],
      "metadata": {
        "colab": {
          "base_uri": "https://localhost:8080/",
          "height": 36
        },
        "id": "ZSq5BtXL9wUE",
        "outputId": "72c894da-0f11-45dc-f297-6adb846c8eba"
      },
      "execution_count": null,
      "outputs": [
        {
          "output_type": "execute_result",
          "data": {
            "text/plain": [
              "'s'"
            ],
            "application/vnd.google.colaboratory.intrinsic+json": {
              "type": "string"
            }
          },
          "metadata": {},
          "execution_count": 5
        }
      ]
    },
    {
      "source": [
        "s = \"sudh\"\n",
        "s_iter = iter(s)  # Create an iterator from the string\n",
        "next(s_iter)     # Now you can use next()"
      ],
      "cell_type": "code",
      "metadata": {
        "colab": {
          "base_uri": "https://localhost:8080/",
          "height": 36
        },
        "id": "s5pvSHnpBdtC",
        "outputId": "2f6e3d0a-48ac-4e21-cbe0-e9921091a872"
      },
      "execution_count": null,
      "outputs": [
        {
          "output_type": "execute_result",
          "data": {
            "text/plain": [
              "'s'"
            ],
            "application/vnd.google.colaboratory.intrinsic+json": {
              "type": "string"
            }
          },
          "metadata": {},
          "execution_count": 6
        }
      ]
    },
    {
      "cell_type": "markdown",
      "source": [
        "# Lambda_function & map,reduce and filter function."
      ],
      "metadata": {
        "id": "i8QMsdQoO2zk"
      }
    },
    {
      "cell_type": "markdown",
      "source": [
        "A lambda function is a small anonymous function.\n",
        "\n",
        "A lambda function can take any number of arguments, but can only have one expression.\n",
        "Why Use Lambda Functions?\n",
        "The power of lambda is better shown when you use them as an anonymous function inside another function.\n",
        "\n",
        "Say you have a function definition that takes one argument, and that argument will be multiplied with an unknown number:\n",
        "\n",
        "\n",
        "\n",
        "```\n",
        "# This is formatted as code\n",
        "def myfunc(n):\n",
        "  return lambda a : a * n\n",
        "```\n",
        "\n"
      ],
      "metadata": {
        "id": "pVnizXM_PLmd"
      }
    },
    {
      "cell_type": "code",
      "source": [
        "n = 3\n",
        "p=2"
      ],
      "metadata": {
        "id": "7nsx2RjOQdzc"
      },
      "execution_count": null,
      "outputs": []
    },
    {
      "cell_type": "code",
      "source": [
        "def test(n,p):\n",
        "  return n**p"
      ],
      "metadata": {
        "id": "u7rQKbQhQo36"
      },
      "execution_count": null,
      "outputs": []
    },
    {
      "cell_type": "code",
      "source": [
        "a= test(4,5)\n",
        "a"
      ],
      "metadata": {
        "id": "komKFKaaQ67f"
      },
      "execution_count": null,
      "outputs": []
    },
    {
      "cell_type": "code",
      "source": [
        "#this can be done with lambda function in a single expression\n",
        "b = lambda n,p: n**p"
      ],
      "metadata": {
        "id": "c4P0TTRtRKOR"
      },
      "execution_count": null,
      "outputs": []
    },
    {
      "cell_type": "code",
      "source": [
        "b(4,5)"
      ],
      "metadata": {
        "colab": {
          "base_uri": "https://localhost:8080/"
        },
        "id": "_8-GAypbRfXu",
        "outputId": "df613f6c-e67d-4441-a52c-fe711d5d4fad"
      },
      "execution_count": null,
      "outputs": [
        {
          "output_type": "execute_result",
          "data": {
            "text/plain": [
              "1024"
            ]
          },
          "metadata": {},
          "execution_count": 10
        }
      ]
    },
    {
      "cell_type": "code",
      "source": [
        "finding_min = lambda x,y : x if x>y else y"
      ],
      "metadata": {
        "id": "rB9grVFwSg7M"
      },
      "execution_count": null,
      "outputs": []
    },
    {
      "cell_type": "code",
      "source": [
        "finding_min(12312,12343248)"
      ],
      "metadata": {
        "colab": {
          "base_uri": "https://localhost:8080/"
        },
        "id": "qAWoEIv4SnuT",
        "outputId": "32f35dc8-993b-4b86-834a-48b0bfdcf8b4"
      },
      "execution_count": null,
      "outputs": [
        {
          "output_type": "execute_result",
          "data": {
            "text/plain": [
              "12343248"
            ]
          },
          "metadata": {},
          "execution_count": 14
        }
      ]
    },
    {
      "cell_type": "code",
      "source": [
        "# we can also do addition, substraction, division and multiplication etc....\n",
        "add = lambda x,y: x+y\n",
        "sub = lambda x,y: x-y\n",
        "mul = lambda x,y: x*y\n",
        "div = lambda x,y: x/y"
      ],
      "metadata": {
        "id": "hCKplycOS0La"
      },
      "execution_count": null,
      "outputs": []
    },
    {
      "cell_type": "code",
      "source": [
        "print(add(3,2))\n",
        "print(sub(3,2))\n",
        "print(mul(3,2))\n",
        "print(div(3,2))"
      ],
      "metadata": {
        "colab": {
          "base_uri": "https://localhost:8080/"
        },
        "id": "goXwVwI6TEaK",
        "outputId": "36d5cf0a-ba1e-40d4-8778-705df94b152a"
      },
      "execution_count": null,
      "outputs": [
        {
          "output_type": "stream",
          "name": "stdout",
          "text": [
            "5\n",
            "1\n",
            "6\n",
            "1.5\n"
          ]
        }
      ]
    },
    {
      "cell_type": "markdown",
      "source": [
        "Now, we'll talk about map, reduce and filter function."
      ],
      "metadata": {
        "id": "nozO2inBUMjE"
      }
    },
    {
      "cell_type": "code",
      "source": [
        "l = [2,3,4,5,6]"
      ],
      "metadata": {
        "id": "-1IDtxu3UYTu"
      },
      "execution_count": null,
      "outputs": []
    },
    {
      "cell_type": "code",
      "source": [
        "def sq(x):\n",
        "  return x**2"
      ],
      "metadata": {
        "id": "RgvHcCr2V_UN"
      },
      "execution_count": null,
      "outputs": []
    },
    {
      "cell_type": "code",
      "source": [
        "list(map(sq,l)) # map function only map the specific data"
      ],
      "metadata": {
        "colab": {
          "base_uri": "https://localhost:8080/"
        },
        "id": "0BT0R6WSWG5N",
        "outputId": "031d8fe7-443f-42f6-8b55-4a27c32b726b"
      },
      "execution_count": null,
      "outputs": [
        {
          "output_type": "execute_result",
          "data": {
            "text/plain": [
              "[4, 9, 16, 25, 36]"
            ]
          },
          "metadata": {},
          "execution_count": 29
        }
      ]
    },
    {
      "cell_type": "code",
      "source": [
        "list(map(lambda x: x**2, l))"
      ],
      "metadata": {
        "colab": {
          "base_uri": "https://localhost:8080/"
        },
        "id": "B_yl2EzoWLU_",
        "outputId": "8e3b3e3f-3ed8-4874-bcad-70e6a39804a1"
      },
      "execution_count": null,
      "outputs": [
        {
          "output_type": "execute_result",
          "data": {
            "text/plain": [
              "[4, 9, 16, 25, 36]"
            ]
          },
          "metadata": {},
          "execution_count": 30
        }
      ]
    },
    {
      "cell_type": "code",
      "source": [
        "l1 = [1,2,3,4,5]\n",
        "l2 = [6,7,8,9,10]\n",
        "list(map(lambda x,y : x+y ,l1,l2))"
      ],
      "metadata": {
        "colab": {
          "base_uri": "https://localhost:8080/"
        },
        "id": "RCE4YGlaWRox",
        "outputId": "84fe7bcf-668e-4878-d2bf-c8c25626b02c"
      },
      "execution_count": null,
      "outputs": [
        {
          "output_type": "execute_result",
          "data": {
            "text/plain": [
              "[7, 9, 11, 13, 15]"
            ]
          },
          "metadata": {},
          "execution_count": 31
        }
      ]
    },
    {
      "cell_type": "markdown",
      "source": [
        "The reduce() function in Python is a powerful tool for performing cumulative operations on a sequence of elements, reducing them to a single value. It is part of the functools module and is often used in functional programming."
      ],
      "metadata": {
        "id": "v8v3I5Uoae9X"
      }
    },
    {
      "cell_type": "code",
      "source": [
        "from functools import reduce"
      ],
      "metadata": {
        "id": "p3FW4dhIW4aw"
      },
      "execution_count": null,
      "outputs": []
    },
    {
      "cell_type": "code",
      "source": [
        "l = [3,4,5,6,7,8,9]"
      ],
      "metadata": {
        "id": "qgyHvS5iYZFp"
      },
      "execution_count": null,
      "outputs": []
    },
    {
      "cell_type": "code",
      "source": [
        "l"
      ],
      "metadata": {
        "colab": {
          "base_uri": "https://localhost:8080/"
        },
        "id": "TRIBq35ZYbV4",
        "outputId": "84ecca4a-7a5e-458d-c0ef-ea8d77d1bc1e"
      },
      "execution_count": null,
      "outputs": [
        {
          "output_type": "execute_result",
          "data": {
            "text/plain": [
              "[3, 4, 5, 6, 7, 8, 9]"
            ]
          },
          "metadata": {},
          "execution_count": 36
        }
      ]
    },
    {
      "cell_type": "code",
      "source": [
        "reduce(lambda x,y : x+y, l) # reduce function reduce the"
      ],
      "metadata": {
        "colab": {
          "base_uri": "https://localhost:8080/"
        },
        "id": "JxUmqAH6YjBX",
        "outputId": "b1908527-074e-4ef0-87da-cefe7e9b82e6"
      },
      "execution_count": null,
      "outputs": [
        {
          "output_type": "execute_result",
          "data": {
            "text/plain": [
              "42"
            ]
          },
          "metadata": {},
          "execution_count": 37
        }
      ]
    },
    {
      "cell_type": "code",
      "source": [
        "reduce(lambda x,y: x*y, l)"
      ],
      "metadata": {
        "colab": {
          "base_uri": "https://localhost:8080/"
        },
        "id": "Xgdqyh7GYxNN",
        "outputId": "dbbc6d6b-3399-4fd3-884a-6eff7a23ff5e"
      },
      "execution_count": null,
      "outputs": [
        {
          "output_type": "execute_result",
          "data": {
            "text/plain": [
              "181440"
            ]
          },
          "metadata": {},
          "execution_count": 38
        }
      ]
    },
    {
      "cell_type": "markdown",
      "source": [
        "The filter() function returns an iterator where the items are filtered through a function to test if the item is accepted or not.\n",
        "\n",
        "Parameter\tDescription\n",
        "function\tA Function to be run for each item in the iterable\n",
        "iterable\tThe iterable to be filtered"
      ],
      "metadata": {
        "id": "WX04xxHsbNHi"
      }
    },
    {
      "cell_type": "code",
      "source": [
        "l = [-13,1,2,3,4,5]\n",
        "l"
      ],
      "metadata": {
        "colab": {
          "base_uri": "https://localhost:8080/"
        },
        "id": "BHAqyQ3NdORS",
        "outputId": "1c0501c9-b226-49c6-c3e1-5c00bcca780d"
      },
      "execution_count": null,
      "outputs": [
        {
          "output_type": "execute_result",
          "data": {
            "text/plain": [
              "[-13, 1, 2, 3, 4, 5]"
            ]
          },
          "metadata": {},
          "execution_count": 43
        }
      ]
    },
    {
      "cell_type": "code",
      "source": [
        "list(filter(lambda x: x%2 == 0, l))"
      ],
      "metadata": {
        "colab": {
          "base_uri": "https://localhost:8080/"
        },
        "id": "Np6YFpIQdle3",
        "outputId": "8ee1379d-3081-4164-dfa0-0a9d89a443d9"
      },
      "execution_count": null,
      "outputs": [
        {
          "output_type": "execute_result",
          "data": {
            "text/plain": [
              "[2, 4]"
            ]
          },
          "metadata": {},
          "execution_count": 44
        }
      ]
    },
    {
      "cell_type": "code",
      "source": [
        "list(filter(lambda x: x<0,l ))"
      ],
      "metadata": {
        "colab": {
          "base_uri": "https://localhost:8080/"
        },
        "id": "qhRCQljwdsFL",
        "outputId": "1d907b03-17fd-4313-ed3b-13a935730794"
      },
      "execution_count": null,
      "outputs": [
        {
          "output_type": "execute_result",
          "data": {
            "text/plain": [
              "[-13]"
            ]
          },
          "metadata": {},
          "execution_count": 45
        }
      ]
    },
    {
      "cell_type": "code",
      "source": [
        "l2 = [\"sudh\", \"pwskills\",\"kumar\",\"banglore\",\"krish\"]\n",
        "list(filter(lambda x: len(x)>6, l2))"
      ],
      "metadata": {
        "colab": {
          "base_uri": "https://localhost:8080/"
        },
        "id": "1yrorqPyeBRl",
        "outputId": "0341eacf-a04f-43fa-8695-0c2cb3780216"
      },
      "execution_count": null,
      "outputs": [
        {
          "output_type": "execute_result",
          "data": {
            "text/plain": [
              "['pwskills', 'banglore']"
            ]
          },
          "metadata": {},
          "execution_count": 49
        }
      ]
    },
    {
      "cell_type": "markdown",
      "source": [
        "# Object Oriented Programming"
      ],
      "metadata": {
        "id": "PfnUzOQ1gaXL"
      }
    },
    {
      "cell_type": "code",
      "source": [
        "class test:\n",
        "  def welcome():\n",
        "    print(\"Welcome to Google collab\")"
      ],
      "metadata": {
        "id": "FLay5CAAgh_1"
      },
      "execution_count": null,
      "outputs": []
    }
  ]
}