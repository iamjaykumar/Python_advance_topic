{
  "nbformat": 4,
  "nbformat_minor": 0,
  "metadata": {
    "colab": {
      "provenance": [],
      "gpuType": "T4",
      "collapsed_sections": [
        "rYNpZ0Fvnemm",
        "SQ1saTyf0eaz",
        "i8QMsdQoO2zk",
        "PfnUzOQ1gaXL",
        "zVFC1AI59VFH"
      ],
      "mount_file_id": "1cRGMk9YSDczD3YG-05mc2KIvbsNygZT2",
      "authorship_tag": "ABX9TyNslxWCWpGV7p36V6jsCGjh",
      "include_colab_link": true
    },
    "kernelspec": {
      "name": "python3",
      "display_name": "Python 3"
    },
    "language_info": {
      "name": "python"
    }
  },
  "cells": [
    {
      "cell_type": "markdown",
      "metadata": {
        "id": "view-in-github",
        "colab_type": "text"
      },
      "source": [
        "<a href=\"https://colab.research.google.com/github/iamjaykumar/Python_advance_topic/blob/main/Python_advanced_py.ipynb\" target=\"_parent\"><img src=\"https://colab.research.google.com/assets/colab-badge.svg\" alt=\"Open In Colab\"/></a>"
      ]
    },
    {
      "cell_type": "markdown",
      "source": [
        "#Comprehension in python\n"
      ],
      "metadata": {
        "id": "rYNpZ0Fvnemm"
      }
    },
    {
      "cell_type": "markdown",
      "source": [
        "Comprehensions in Python provide a concise and efficient way to create new sequences from existing ones. They enhance code readability and reduce the need for lengthy loops. Python supports four types of comprehensions:\n",
        "\n",
        "List Comprehensions\n",
        "Dictionary Comprehensions\n",
        "Set Comprehensions\n",
        "Generator Comprehensions"
      ],
      "metadata": {
        "id": "y61oqbUFpTYg"
      }
    },
    {
      "cell_type": "code",
      "source": [
        "l = [1,2,3,4,45,5]\n",
        "l1 = []\n",
        "for i in l:\n",
        "  l1.append(i**2)"
      ],
      "metadata": {
        "id": "dMOm0pPGpWXc"
      },
      "execution_count": null,
      "outputs": []
    },
    {
      "cell_type": "code",
      "source": [
        "l1"
      ],
      "metadata": {
        "colab": {
          "base_uri": "https://localhost:8080/"
        },
        "id": "_imVcO2LpmmW",
        "outputId": "c5a46eb3-864d-473c-d17d-65ac107bca3b"
      },
      "execution_count": null,
      "outputs": [
        {
          "output_type": "execute_result",
          "data": {
            "text/plain": [
              "[1, 4, 9, 16, 2025, 25]"
            ]
          },
          "metadata": {},
          "execution_count": 52
        }
      ]
    },
    {
      "cell_type": "markdown",
      "source": [
        "These can be done with the help of comprehension in one line in python\n"
      ],
      "metadata": {
        "id": "kr5c7G_2p0fX"
      }
    },
    {
      "cell_type": "code",
      "source": [
        "l"
      ],
      "metadata": {
        "colab": {
          "base_uri": "https://localhost:8080/"
        },
        "id": "ES2-EAtsp9do",
        "outputId": "1d486e84-98cd-483c-eea1-470c9c14ed55"
      },
      "execution_count": null,
      "outputs": [
        {
          "output_type": "execute_result",
          "data": {
            "text/plain": [
              "[1, 2, 3, 4, 45, 5]"
            ]
          },
          "metadata": {},
          "execution_count": 53
        }
      ]
    },
    {
      "cell_type": "code",
      "source": [
        "[i**2 for i in l] #do i**2, in for loop"
      ],
      "metadata": {
        "id": "oqk22zDvqAz9",
        "colab": {
          "base_uri": "https://localhost:8080/"
        },
        "outputId": "188b7b52-8b3b-4db7-b504-99130c6eb541"
      },
      "execution_count": null,
      "outputs": [
        {
          "output_type": "execute_result",
          "data": {
            "text/plain": [
              "[1, 4, 9, 16, 2025, 25]"
            ]
          },
          "metadata": {},
          "execution_count": 54
        }
      ]
    },
    {
      "cell_type": "code",
      "source": [
        "#getting even number\n",
        "[i for i in l if i%2 == 0]"
      ],
      "metadata": {
        "id": "gDG_ScDDsBqz",
        "colab": {
          "base_uri": "https://localhost:8080/"
        },
        "outputId": "c4d54a41-7cfb-4f56-b794-42c1faa83570"
      },
      "execution_count": null,
      "outputs": [
        {
          "output_type": "execute_result",
          "data": {
            "text/plain": [
              "[2, 4]"
            ]
          },
          "metadata": {},
          "execution_count": 55
        }
      ]
    },
    {
      "cell_type": "code",
      "source": [
        "l1 = [\"sudh\", \"pwskills\", \"kumar\", \"data science masters\"]"
      ],
      "metadata": {
        "id": "PnGWrDutsg_h"
      },
      "execution_count": null,
      "outputs": []
    },
    {
      "cell_type": "code",
      "source": [
        "[i.upper() for i in l1]"
      ],
      "metadata": {
        "id": "_VNoxg0vspFS",
        "colab": {
          "base_uri": "https://localhost:8080/"
        },
        "outputId": "b10c2abd-a0ef-4c2a-9a08-b889e9527714"
      },
      "execution_count": null,
      "outputs": [
        {
          "output_type": "execute_result",
          "data": {
            "text/plain": [
              "['SUDH', 'PWSKILLS', 'KUMAR', 'DATA SCIENCE MASTERS']"
            ]
          },
          "metadata": {},
          "execution_count": 57
        }
      ]
    },
    {
      "cell_type": "code",
      "source": [
        "# same thing will happen in tuple\n",
        "l\n",
        "list(i**2 for i in l)"
      ],
      "metadata": {
        "id": "0VrkYaqhsx_W",
        "colab": {
          "base_uri": "https://localhost:8080/"
        },
        "outputId": "f5108326-b1c3-44c1-a1a6-f6f4abca5f76"
      },
      "execution_count": null,
      "outputs": [
        {
          "output_type": "execute_result",
          "data": {
            "text/plain": [
              "[1, 4, 9, 16, 2025, 25]"
            ]
          },
          "metadata": {},
          "execution_count": 58
        }
      ]
    },
    {
      "cell_type": "markdown",
      "source": [
        "Comprehension in dictionary"
      ],
      "metadata": {
        "id": "7hE7_6-RtI0P"
      }
    },
    {
      "cell_type": "code",
      "source": [
        "d = {\"key1\":1, \"key2\":2, \"key3\":3, \"key4\":4}"
      ],
      "metadata": {
        "id": "pMDTzB1AtMeI"
      },
      "execution_count": null,
      "outputs": []
    },
    {
      "cell_type": "code",
      "source": [
        "d.items()\n",
        "d"
      ],
      "metadata": {
        "id": "_iKj-EMOtV7k",
        "colab": {
          "base_uri": "https://localhost:8080/"
        },
        "outputId": "e0a65c15-b2b2-4485-bf7e-5c43cb3a6a90"
      },
      "execution_count": null,
      "outputs": [
        {
          "output_type": "execute_result",
          "data": {
            "text/plain": [
              "{'key1': 1, 'key2': 2, 'key3': 3, 'key4': 4}"
            ]
          },
          "metadata": {},
          "execution_count": 60
        }
      ]
    },
    {
      "cell_type": "code",
      "source": [
        "{k:v**2 for k, v in d.items()}"
      ],
      "metadata": {
        "colab": {
          "base_uri": "https://localhost:8080/"
        },
        "id": "aXYk0LL1tgKK",
        "outputId": "36aa07d6-efc5-431a-93bf-afa76e52372d"
      },
      "execution_count": null,
      "outputs": [
        {
          "output_type": "execute_result",
          "data": {
            "text/plain": [
              "{'key1': 1, 'key2': 4, 'key3': 9, 'key4': 16}"
            ]
          },
          "metadata": {},
          "execution_count": 61
        }
      ]
    },
    {
      "cell_type": "code",
      "source": [
        "{k:v for k, v in d.items() if v>1} # key value pair, in loop then condition."
      ],
      "metadata": {
        "colab": {
          "base_uri": "https://localhost:8080/"
        },
        "id": "IyNtvuJrt4Jv",
        "outputId": "4ac1bcc1-e67f-416e-99d9-9be8575801be"
      },
      "execution_count": null,
      "outputs": [
        {
          "output_type": "execute_result",
          "data": {
            "text/plain": [
              "{'key2': 2, 'key3': 3, 'key4': 4}"
            ]
          },
          "metadata": {},
          "execution_count": 62
        }
      ]
    },
    {
      "cell_type": "markdown",
      "source": [
        "# Generator function in python\n"
      ],
      "metadata": {
        "id": "SQ1saTyf0eaz"
      }
    },
    {
      "cell_type": "markdown",
      "source": [
        "yield: Produce a sequence of values\n",
        "  *Purpose: Pause the function, saving its state and yields(throw) a value to the caller.\n",
        "  *Behavior: The function can be resumed later, continuing execution from where it left off. This makes it a generator.\n",
        "  *Use Case: When you want to produce a sequence of values lazily, especially useful for large datasets or streams. USED IN GENERATOR FUNCTION.\n",
        "\n",
        "return: Exit and Return a Value\n",
        "  *Purpose: Exits the function and returns a value to the caller.\n",
        "  *Behavior: Once a return statement is executed, the function terminates, and no further code in the function is executed.\n",
        "  *Use Case: When you want to compute a value and send it back immediately."
      ],
      "metadata": {
        "id": "nx3-MsGB1swX"
      }
    },
    {
      "cell_type": "code",
      "source": [
        "range(10)\n"
      ],
      "metadata": {
        "colab": {
          "base_uri": "https://localhost:8080/"
        },
        "id": "4RI8MAC74acV",
        "outputId": "4745f90b-cfca-4cee-d95c-62f2242007e4"
      },
      "execution_count": null,
      "outputs": [
        {
          "output_type": "execute_result",
          "data": {
            "text/plain": [
              "range(0, 10)"
            ]
          },
          "metadata": {},
          "execution_count": 63
        }
      ]
    },
    {
      "cell_type": "code",
      "source": [
        "for i in range(10):\n",
        "  print(i)"
      ],
      "metadata": {
        "colab": {
          "base_uri": "https://localhost:8080/"
        },
        "id": "n6uMT-Ml43ZL",
        "outputId": "e2bfe4f4-ac28-4b72-bac1-0af92e582dc4"
      },
      "execution_count": null,
      "outputs": [
        {
          "output_type": "stream",
          "name": "stdout",
          "text": [
            "0\n",
            "1\n",
            "2\n",
            "3\n",
            "4\n",
            "5\n",
            "6\n",
            "7\n",
            "8\n",
            "9\n"
          ]
        }
      ]
    },
    {
      "cell_type": "code",
      "source": [
        "def test_fib(n):\n",
        "  a,b = 0,1\n",
        "  for i in range(n):\n",
        "    yield a\n",
        "    a,b = b, a+b"
      ],
      "metadata": {
        "id": "WCnN9kt_5HCa"
      },
      "execution_count": null,
      "outputs": []
    },
    {
      "cell_type": "code",
      "source": [
        "test_fib(10)"
      ],
      "metadata": {
        "colab": {
          "base_uri": "https://localhost:8080/"
        },
        "id": "JsCePbd95XS7",
        "outputId": "f96a753c-d896-4ada-9778-691ec2c96557"
      },
      "execution_count": null,
      "outputs": [
        {
          "output_type": "execute_result",
          "data": {
            "text/plain": [
              "<generator object test_fib at 0x7b6e0c0dd6c0>"
            ]
          },
          "metadata": {},
          "execution_count": 66
        }
      ]
    },
    {
      "cell_type": "code",
      "source": [
        "for i in test_fib(10):\n",
        "  print(i)"
      ],
      "metadata": {
        "colab": {
          "base_uri": "https://localhost:8080/"
        },
        "id": "u0wTS22s5nyy",
        "outputId": "eca123c9-5ba6-486f-a4d3-24e50ff55118"
      },
      "execution_count": null,
      "outputs": [
        {
          "output_type": "stream",
          "name": "stdout",
          "text": [
            "0\n",
            "1\n",
            "1\n",
            "2\n",
            "3\n",
            "5\n",
            "8\n",
            "13\n",
            "21\n",
            "34\n"
          ]
        }
      ]
    },
    {
      "cell_type": "code",
      "source": [
        "s = \"sudh\""
      ],
      "metadata": {
        "id": "8FOCwujD5trN"
      },
      "execution_count": null,
      "outputs": []
    },
    {
      "cell_type": "code",
      "source": [
        "for i in s:\n",
        "  print(i)"
      ],
      "metadata": {
        "colab": {
          "base_uri": "https://localhost:8080/"
        },
        "id": "Pq8nqbhX7FVt",
        "outputId": "24ca5f01-aa80-4c67-8880-d313900f12bd"
      },
      "execution_count": null,
      "outputs": [
        {
          "output_type": "stream",
          "name": "stdout",
          "text": [
            "s\n",
            "u\n",
            "d\n",
            "h\n"
          ]
        }
      ]
    },
    {
      "cell_type": "code",
      "source": [
        "s"
      ],
      "metadata": {
        "colab": {
          "base_uri": "https://localhost:8080/",
          "height": 36
        },
        "id": "ZBGp0nq97PAp",
        "outputId": "0c855ee3-6017-41cd-dd64-c7ed4c0e475b"
      },
      "execution_count": null,
      "outputs": [
        {
          "output_type": "execute_result",
          "data": {
            "text/plain": [
              "'sudh'"
            ],
            "application/vnd.google.colaboratory.intrinsic+json": {
              "type": "string"
            }
          },
          "metadata": {},
          "execution_count": 70
        }
      ]
    },
    {
      "cell_type": "code",
      "source": [
        "next(s)"
      ],
      "metadata": {
        "colab": {
          "base_uri": "https://localhost:8080/",
          "height": 146
        },
        "id": "bYZdtifD7YZS",
        "outputId": "a3d40fca-5cb9-4d8a-f4f1-d01d8674e1ca"
      },
      "execution_count": null,
      "outputs": [
        {
          "output_type": "error",
          "ename": "TypeError",
          "evalue": "'str' object is not an iterator",
          "traceback": [
            "\u001b[0;31m---------------------------------------------------------------------------\u001b[0m",
            "\u001b[0;31mTypeError\u001b[0m                                 Traceback (most recent call last)",
            "\u001b[0;32m<ipython-input-71-61c30b5fe1d5>\u001b[0m in \u001b[0;36m<cell line: 0>\u001b[0;34m()\u001b[0m\n\u001b[0;32m----> 1\u001b[0;31m \u001b[0mnext\u001b[0m\u001b[0;34m(\u001b[0m\u001b[0ms\u001b[0m\u001b[0;34m)\u001b[0m\u001b[0;34m\u001b[0m\u001b[0;34m\u001b[0m\u001b[0m\n\u001b[0m",
            "\u001b[0;31mTypeError\u001b[0m: 'str' object is not an iterator"
          ]
        }
      ]
    },
    {
      "cell_type": "code",
      "source": [
        "s_iter = iter(s)"
      ],
      "metadata": {
        "id": "XgzI3O8x7aou"
      },
      "execution_count": null,
      "outputs": []
    },
    {
      "cell_type": "code",
      "source": [
        "next(s_iter)"
      ],
      "metadata": {
        "id": "w690fwqf9ra3"
      },
      "execution_count": null,
      "outputs": []
    },
    {
      "cell_type": "code",
      "source": [
        "next(s_iter)"
      ],
      "metadata": {
        "id": "ZSq5BtXL9wUE"
      },
      "execution_count": null,
      "outputs": []
    },
    {
      "source": [
        "s = \"sudh\"\n",
        "s_iter = iter(s)  # Create an iterator from the string\n",
        "next(s_iter)     # Now you can use next()"
      ],
      "cell_type": "code",
      "metadata": {
        "id": "s5pvSHnpBdtC"
      },
      "execution_count": null,
      "outputs": []
    },
    {
      "cell_type": "markdown",
      "source": [
        "# Lambda_function & map,reduce and filter function."
      ],
      "metadata": {
        "id": "i8QMsdQoO2zk"
      }
    },
    {
      "cell_type": "markdown",
      "source": [
        "A lambda function is a small anonymous function.\n",
        "\n",
        "A lambda function can take any number of arguments, but can only have one expression.\n",
        "Why Use Lambda Functions?\n",
        "The power of lambda is better shown when you use them as an anonymous function inside another function.\n",
        "\n",
        "Say you have a function definition that takes one argument, and that argument will be multiplied with an unknown number:\n",
        "\n",
        "\n",
        "\n",
        "```\n",
        "# This is formatted as code\n",
        "def myfunc(n):\n",
        "  return lambda a : a * n\n",
        "```\n",
        "\n"
      ],
      "metadata": {
        "id": "pVnizXM_PLmd"
      }
    },
    {
      "cell_type": "code",
      "source": [
        "n = 3\n",
        "p=2"
      ],
      "metadata": {
        "id": "7nsx2RjOQdzc"
      },
      "execution_count": null,
      "outputs": []
    },
    {
      "cell_type": "code",
      "source": [
        "def test(n,p):\n",
        "  return n**p"
      ],
      "metadata": {
        "id": "u7rQKbQhQo36"
      },
      "execution_count": null,
      "outputs": []
    },
    {
      "cell_type": "code",
      "source": [
        "a= test(4,5)\n",
        "a"
      ],
      "metadata": {
        "id": "komKFKaaQ67f"
      },
      "execution_count": null,
      "outputs": []
    },
    {
      "cell_type": "code",
      "source": [
        "#this can be done with lambda function in a single expression\n",
        "b = lambda n,p: n**p"
      ],
      "metadata": {
        "id": "c4P0TTRtRKOR"
      },
      "execution_count": null,
      "outputs": []
    },
    {
      "cell_type": "code",
      "source": [
        "b(4,5)"
      ],
      "metadata": {
        "id": "_8-GAypbRfXu"
      },
      "execution_count": null,
      "outputs": []
    },
    {
      "cell_type": "code",
      "source": [
        "finding_min = lambda x,y : x if x>y else y"
      ],
      "metadata": {
        "id": "rB9grVFwSg7M"
      },
      "execution_count": null,
      "outputs": []
    },
    {
      "cell_type": "code",
      "source": [
        "finding_min(12312,12343248)"
      ],
      "metadata": {
        "id": "qAWoEIv4SnuT"
      },
      "execution_count": null,
      "outputs": []
    },
    {
      "cell_type": "code",
      "source": [
        "# we can also do addition, substraction, division and multiplication etc....\n",
        "add = lambda x,y: x+y\n",
        "sub = lambda x,y: x-y\n",
        "mul = lambda x,y: x*y\n",
        "div = lambda x,y: x/y"
      ],
      "metadata": {
        "id": "hCKplycOS0La"
      },
      "execution_count": null,
      "outputs": []
    },
    {
      "cell_type": "code",
      "source": [
        "print(add(3,2))\n",
        "print(sub(3,2))\n",
        "print(mul(3,2))\n",
        "print(div(3,2))"
      ],
      "metadata": {
        "id": "goXwVwI6TEaK"
      },
      "execution_count": null,
      "outputs": []
    },
    {
      "cell_type": "markdown",
      "source": [
        "Now, we'll talk about map, reduce and filter function."
      ],
      "metadata": {
        "id": "nozO2inBUMjE"
      }
    },
    {
      "cell_type": "code",
      "source": [
        "l = [2,3,4,5,6]"
      ],
      "metadata": {
        "id": "-1IDtxu3UYTu"
      },
      "execution_count": null,
      "outputs": []
    },
    {
      "cell_type": "code",
      "source": [
        "def sq(x):\n",
        "  return x**2"
      ],
      "metadata": {
        "id": "RgvHcCr2V_UN"
      },
      "execution_count": null,
      "outputs": []
    },
    {
      "cell_type": "code",
      "source": [
        "list(map(sq,l)) # map function only map the specific data"
      ],
      "metadata": {
        "id": "0BT0R6WSWG5N"
      },
      "execution_count": null,
      "outputs": []
    },
    {
      "cell_type": "code",
      "source": [
        "list(map(lambda x: x**2, l))"
      ],
      "metadata": {
        "id": "B_yl2EzoWLU_"
      },
      "execution_count": null,
      "outputs": []
    },
    {
      "cell_type": "code",
      "source": [
        "l1 = [1,2,3,4,5]\n",
        "l2 = [6,7,8,9,10]\n",
        "list(map(lambda x,y : x+y ,l1,l2))"
      ],
      "metadata": {
        "id": "RCE4YGlaWRox"
      },
      "execution_count": null,
      "outputs": []
    },
    {
      "cell_type": "markdown",
      "source": [
        "The reduce() function in Python is a powerful tool for performing cumulative operations on a sequence of elements, reducing them to a single value. It is part of the functools module and is often used in functional programming."
      ],
      "metadata": {
        "id": "v8v3I5Uoae9X"
      }
    },
    {
      "cell_type": "code",
      "source": [
        "from functools import reduce"
      ],
      "metadata": {
        "id": "p3FW4dhIW4aw"
      },
      "execution_count": null,
      "outputs": []
    },
    {
      "cell_type": "code",
      "source": [
        "l = [3,4,5,6,7,8,9]"
      ],
      "metadata": {
        "id": "qgyHvS5iYZFp"
      },
      "execution_count": null,
      "outputs": []
    },
    {
      "cell_type": "code",
      "source": [
        "l"
      ],
      "metadata": {
        "id": "TRIBq35ZYbV4"
      },
      "execution_count": null,
      "outputs": []
    },
    {
      "cell_type": "code",
      "source": [
        "reduce(lambda x,y : x+y, l) # reduce function reduce the"
      ],
      "metadata": {
        "id": "JxUmqAH6YjBX"
      },
      "execution_count": null,
      "outputs": []
    },
    {
      "cell_type": "code",
      "source": [
        "reduce(lambda x,y: x*y, l)"
      ],
      "metadata": {
        "id": "Xgdqyh7GYxNN"
      },
      "execution_count": null,
      "outputs": []
    },
    {
      "cell_type": "markdown",
      "source": [
        "The filter() function returns an iterator where the items are filtered through a function to test if the item is accepted or not.\n",
        "\n",
        "Parameter\tDescription\n",
        "function\tA Function to be run for each item in the iterable\n",
        "iterable\tThe iterable to be filtered"
      ],
      "metadata": {
        "id": "WX04xxHsbNHi"
      }
    },
    {
      "cell_type": "code",
      "source": [
        "l = [-13,1,2,3,4,5]\n",
        "l"
      ],
      "metadata": {
        "id": "BHAqyQ3NdORS"
      },
      "execution_count": null,
      "outputs": []
    },
    {
      "cell_type": "code",
      "source": [
        "list(filter(lambda x: x%2 == 0, l))"
      ],
      "metadata": {
        "id": "Np6YFpIQdle3"
      },
      "execution_count": null,
      "outputs": []
    },
    {
      "cell_type": "code",
      "source": [
        "list(filter(lambda x: x<0,l ))"
      ],
      "metadata": {
        "id": "qhRCQljwdsFL"
      },
      "execution_count": null,
      "outputs": []
    },
    {
      "cell_type": "code",
      "source": [
        "l2 = [\"sudh\", \"pwskills\",\"kumar\",\"banglore\",\"krish\"]\n",
        "list(filter(lambda x: len(x)>6, l2))"
      ],
      "metadata": {
        "id": "1yrorqPyeBRl"
      },
      "execution_count": null,
      "outputs": []
    },
    {
      "cell_type": "markdown",
      "source": [
        "# Object Oriented Programming"
      ],
      "metadata": {
        "id": "PfnUzOQ1gaXL"
      }
    },
    {
      "cell_type": "code",
      "source": [
        "class test:\n",
        "  def welcome():\n",
        "    print(\"Welcome to Google collab\")"
      ],
      "metadata": {
        "id": "FLay5CAAgh_1"
      },
      "execution_count": null,
      "outputs": []
    },
    {
      "cell_type": "code",
      "source": [
        "a  = test()\n",
        "a.welcome()"
      ],
      "metadata": {
        "id": "XDIgr9C1kQe4"
      },
      "execution_count": null,
      "outputs": []
    },
    {
      "cell_type": "markdown",
      "source": [
        "self is conventionally used as the first parameter in instance methods within a Python class. It represents the instance of the class itself.\n",
        "\n",
        "Here's why self is used:\n",
        "\n",
        "Accessing Instance Attributes and Methods: Within an instance method, self allows you to access the attributes (data) and other methods defined for that specific instance of the class. For example, if you had an attribute self.name, you would use self.name inside a method to refer to that instance's name.\n",
        "\n",
        "Distinguishing Instance Methods: When you define a method inside a class without self as the first parameter, it's treated as a static method or a class method (depending on decorators like @staticmethod or @classmethod). Including self explicitly marks it as an instance method, meaning it operates on a specific instance of the class.\n",
        "\n",
        "Implicit Passing: When you call an instance method on an object (like a.welcome()), Python automatically passes the object a as the first argument to the welcome method. This argument is received by the parameter self in the method's definition. You don't explicitly pass a when calling a.welcome().\n",
        "\n",
        "In essence, self acts as a reference to the object that the method is being called on, allowing the method to interact with the data and behavior of that particular object. While you could technically name this parameter something else, self is the universally accepted convention and makes the code much more readable and understandable to other Python developers."
      ],
      "metadata": {
        "id": "QFoQJPPjloHT"
      }
    },
    {
      "source": [
        "class test:\n",
        "  def welcome(self):\n",
        "    print(\"Welcome to Google collab\")\n",
        "\n",
        "a  = test()\n",
        "a.welcome()"
      ],
      "cell_type": "code",
      "metadata": {
        "id": "sMghJYsYlSGL"
      },
      "execution_count": null,
      "outputs": []
    },
    {
      "cell_type": "code",
      "source": [
        "class test1:\n",
        "  def __init__(self, phone_number, email_id, student_id):\n",
        "    self.phone_number = phone_number\n",
        "    self.email_id = email_id\n",
        "    self.student_id = student_id\n",
        "  def return_student_details(self):\n",
        "      return self.student_id, self.phone_number, self.email_id"
      ],
      "metadata": {
        "id": "l3mTkNBrn9lE"
      },
      "execution_count": null,
      "outputs": []
    },
    {
      "cell_type": "code",
      "source": [
        "jay = test1(87545645489, \"jay@gmail.com\", 101)"
      ],
      "metadata": {
        "id": "8ysKmATIseW3"
      },
      "execution_count": null,
      "outputs": []
    },
    {
      "cell_type": "code",
      "source": [
        "jay.return_student_details()"
      ],
      "metadata": {
        "id": "vukjBCm8srpM"
      },
      "execution_count": null,
      "outputs": []
    },
    {
      "cell_type": "code",
      "source": [
        "bijay = test1(87545645489, \"bijay@gmail.com\", 102)"
      ],
      "metadata": {
        "id": "yljqoILjswMD"
      },
      "execution_count": null,
      "outputs": []
    },
    {
      "cell_type": "code",
      "source": [
        "bijay.return_student_details()"
      ],
      "metadata": {
        "id": "JDlZTtrBtwZ2"
      },
      "execution_count": null,
      "outputs": []
    },
    {
      "cell_type": "markdown",
      "source": [
        "Self is not a reverbed keyword. It is used for pointing or (pointer), we can also use other word as a keyword"
      ],
      "metadata": {
        "id": "QuKgYdafuPn-"
      }
    },
    {
      "cell_type": "code",
      "source": [
        "class test2:\n",
        "  def __init__(jay, phone_number, email_id, student_id):\n",
        "    jay.phone_number = phone_number\n",
        "    jay.email_id = email_id\n",
        "    jay.student_id = student_id\n",
        "  def return_student_details(jay):\n",
        "      return jay.student_id, jay.phone_number, jay.email_id"
      ],
      "metadata": {
        "id": "BmWnQp_3uvho"
      },
      "execution_count": null,
      "outputs": []
    },
    {
      "cell_type": "code",
      "source": [
        "buju = test2(87545645489, \"buju@gmail.com\", 103)\n",
        "buju.return_student_details()"
      ],
      "metadata": {
        "id": "LrHoq48OvAIP"
      },
      "execution_count": null,
      "outputs": []
    },
    {
      "cell_type": "markdown",
      "source": [
        "# **POLYMORPHISM:** ONE ENTITY VARIOUS CHARACTER."
      ],
      "metadata": {
        "id": "zVFC1AI59VFH"
      }
    },
    {
      "cell_type": "code",
      "source": [
        "class datascience:\n",
        "  def syllabus(self):\n",
        "    print(\"this is my datascience class\")\n",
        "\n",
        "class web_dev:\n",
        "  def syllabus(self):\n",
        "    print(\"this is my web dev class\")"
      ],
      "metadata": {
        "id": "QzPA8-ls9i2D"
      },
      "execution_count": null,
      "outputs": []
    },
    {
      "cell_type": "code",
      "source": [
        "def class_parcer(class_obj):\n",
        "  for i in class_obj:\n",
        "    i.syllabus()"
      ],
      "metadata": {
        "id": "rY14xnkq-unz"
      },
      "execution_count": null,
      "outputs": []
    },
    {
      "cell_type": "code",
      "source": [
        "data_science= datascience()\n",
        "webdev = web_dev()"
      ],
      "metadata": {
        "id": "WQB1c-sz_AwH"
      },
      "execution_count": null,
      "outputs": []
    },
    {
      "cell_type": "code",
      "source": [
        "class_obj = [data_science, webdev]"
      ],
      "metadata": {
        "id": "8NdqL3F6_MWY"
      },
      "execution_count": null,
      "outputs": []
    },
    {
      "cell_type": "code",
      "source": [
        "class_parcer(class_obj)"
      ],
      "metadata": {
        "id": "HGrguQbW_WVj"
      },
      "execution_count": null,
      "outputs": []
    },
    {
      "cell_type": "markdown",
      "source": [
        "**ENCAPSULATION: **  Encapsul like a tablet."
      ],
      "metadata": {
        "id": "vEAFZCklRi2A"
      }
    },
    {
      "cell_type": "code",
      "source": [
        "class car:\n",
        "  def __init__(self,year,make,model,speed):\n",
        "    self.__year = year\n",
        "    self.__make = make\n",
        "    self.__model = model\n",
        "    self.__speed = 0\n",
        "  def set_speed(self,speed):\n",
        "    self.__speed = 0 if speed < 0 else speed\n",
        "  def get_speed(self):\n",
        "    return self.__speed"
      ],
      "metadata": {
        "id": "-OqV5MfuR6Op"
      },
      "execution_count": null,
      "outputs": []
    },
    {
      "cell_type": "code",
      "source": [
        "c = car(2021,\"toyata\",\"innova\",12)"
      ],
      "metadata": {
        "id": "XWBgLIDoSR4y"
      },
      "execution_count": null,
      "outputs": []
    },
    {
      "cell_type": "code",
      "source": [
        "c.set_speed(12999)\n"
      ],
      "metadata": {
        "id": "YOY-5HAUSfYm"
      },
      "execution_count": null,
      "outputs": []
    },
    {
      "cell_type": "code",
      "source": [
        "c.get_speed()"
      ],
      "metadata": {
        "id": "Ej6Lz83lStKl"
      },
      "execution_count": null,
      "outputs": []
    },
    {
      "cell_type": "code",
      "source": [
        "c._car__year"
      ],
      "metadata": {
        "id": "vmaQYQs8Sa8c"
      },
      "execution_count": null,
      "outputs": []
    },
    {
      "cell_type": "code",
      "source": [
        "class bank_account:\n",
        "  def __init__(self, balance):\n",
        "    self.__balance = balance\n",
        "  def deposit(self, amount):\n",
        "    self.__balance = self.__balance + amount\n",
        "  def withdraw(self, amount):\n",
        "    if self.__balance >= amount:\n",
        "      self.__balance = self.__balance - amount\n",
        "      return True\n",
        "    else:\n",
        "      print(\"Not sufficient amount\")\n",
        "\n",
        "  def get_balance(self):\n",
        "    return self.__balance"
      ],
      "metadata": {
        "id": "sdecHr1bVmFs"
      },
      "execution_count": null,
      "outputs": []
    },
    {
      "cell_type": "code",
      "source": [
        "sudh = bank_account(1000)"
      ],
      "metadata": {
        "id": "bj4WdW2uVmAm"
      },
      "execution_count": null,
      "outputs": []
    },
    {
      "cell_type": "code",
      "source": [
        "sudh.get_balance()"
      ],
      "metadata": {
        "id": "XRlltbm_VltH"
      },
      "execution_count": null,
      "outputs": []
    },
    {
      "cell_type": "code",
      "source": [
        "sudh.deposit(5000)"
      ],
      "metadata": {
        "id": "yJfwNOJ-V620"
      },
      "execution_count": null,
      "outputs": []
    },
    {
      "cell_type": "code",
      "source": [
        "sudh.withdraw(7000)"
      ],
      "metadata": {
        "id": "P7XQjxJGWA07"
      },
      "execution_count": null,
      "outputs": []
    },
    {
      "cell_type": "markdown",
      "source": [
        "**INHERITAGE:** Inherit from other or parent."
      ],
      "metadata": {
        "id": "Vaf21VK0pE8f"
      }
    },
    {
      "cell_type": "markdown",
      "source": [
        "Single Inheritance: A child class inherits from one parent class.\n",
        "Multiple Inheritance: A child class inherits from more than one parent class.\n",
        "Multilevel Inheritance: A class is derived from a class which is also derived from another class.\n",
        "Hierarchical Inheritance: Multiple classes inherit from a single parent class.\n",
        "Hybrid Inheritance: A combination of more than one type of inheritance."
      ],
      "metadata": {
        "id": "aZzjuHLCxrKi"
      }
    },
    {
      "cell_type": "code",
      "source": [
        "class class_1:\n",
        "  def class1_test(self):\n",
        "    print(\"This is the first test class\")\n",
        "\n",
        "class class_2(class_1):\n",
        "  def class2_test(self):\n",
        "    print(\"This is the second test class\")\n",
        "\n",
        "class class_3(class_2):\n",
        "  pass\n"
      ],
      "metadata": {
        "id": "gIwPHt2epTWk"
      },
      "execution_count": null,
      "outputs": []
    },
    {
      "cell_type": "code",
      "source": [
        "class_obj= class_3()\n",
        "class_obj.class1_test()\n"
      ],
      "metadata": {
        "id": "rjLVmrpIxKMB"
      },
      "execution_count": null,
      "outputs": []
    },
    {
      "cell_type": "code",
      "source": [
        "class_obj.class2_test()"
      ],
      "metadata": {
        "id": "yCAZgf3YxgbH"
      },
      "execution_count": null,
      "outputs": []
    },
    {
      "cell_type": "code",
      "source": [
        "class dormitory_1:\n",
        "  def dormitory_room(self):\n",
        "    print(\"This is the first room\")\n",
        "\n",
        "class dormitory_2:\n",
        "  def dormitory_room(self):\n",
        "    print(\"This is the second room\")\n",
        "class dormitory_3(dormitory_1,dormitory_2):\n",
        "  pass"
      ],
      "metadata": {
        "id": "thAbWfkDyPon"
      },
      "execution_count": null,
      "outputs": []
    },
    {
      "cell_type": "code",
      "source": [
        "dormitory3_obj = dormitory_3()"
      ],
      "metadata": {
        "id": "mASpwz2qy4JT"
      },
      "execution_count": null,
      "outputs": []
    },
    {
      "cell_type": "code",
      "source": [
        "dormitory3_obj.dormitory_room()"
      ],
      "metadata": {
        "id": "fyLCvlE9zAbF"
      },
      "execution_count": null,
      "outputs": []
    },
    {
      "cell_type": "markdown",
      "source": [
        "# **ABSTRACTION**: Abstraction focuses on hiding the internal implementations of a process or method from the user."
      ],
      "metadata": {
        "id": "Jw3R8Di3zkp_"
      }
    },
    {
      "cell_type": "markdown",
      "source": [
        "For example, people do not think of a car as a set of thousands of individual parts. Instead they see it as a well-defined object with its own unique behavior. This abstraction allows people to use a car to drive without knowing the complexity of the parts that form the car. They can ignore the details of how the engine transmission, and braking systems work. Instead, they are free to utilize the object as a whole."
      ],
      "metadata": {
        "id": "gSakQqTh13T4"
      }
    },
    {
      "cell_type": "code",
      "source": [
        "import abc\n",
        "class ranikamalapati:\n",
        "  @abc.abstractclassmethod\n",
        "  def platform(self):\n",
        "    pass\n",
        "  @abc.abstractclassmethod\n",
        "  def dormitory(self):\n",
        "    pass\n",
        "  @abc.abstractclassmethod\n",
        "  def platform3(self):\n",
        "    pass"
      ],
      "metadata": {
        "id": "H8clB2IX18i5"
      },
      "execution_count": null,
      "outputs": []
    },
    {
      "cell_type": "code",
      "source": [
        "class platform101(ranikamalapati):\n",
        "  def platform(self):\n",
        "    return \"this is my platform1\"\n",
        "  def dormitory(self):\n",
        "    return \"The dormitory is in platform1\"\n",
        "\n",
        "class platform201(ranikamalapati):\n",
        "  def platform(self):\n",
        "    return \"This is 2nd platform\"\n",
        "  def dormitory(self):\n",
        "    return \"The dormitory isn't in the platform2\"\n",
        "class platform301(ranikamalapati):\n",
        "  def platform(self):\n",
        "    return \"This is 2nd platform\"\n",
        "  def dormitory(self):\n",
        "    return \"The dormitory isn't in the platform3\""
      ],
      "metadata": {
        "id": "et98JB3H4Rrm"
      },
      "execution_count": null,
      "outputs": []
    },
    {
      "source": [
        "pdf = platform301()\n",
        "pdf.platform()"
      ],
      "cell_type": "code",
      "metadata": {
        "id": "q8GIM7Rc6_oh"
      },
      "execution_count": null,
      "outputs": []
    },
    {
      "cell_type": "markdown",
      "source": [
        "**DECORATORS:** are a powerful and flexible way to modify or extend the behavior of functions or methods, without changing their actual code. A decorator is essentially a function that takes another function as an argument and returns a new function with enhanced functionality."
      ],
      "metadata": {
        "id": "VloE76rkO6fN"
      }
    },
    {
      "cell_type": "code",
      "source": [
        "import time\n",
        "def timer_test(func):\n",
        "  def timer_test_inner():\n",
        "    start = time.time()\n",
        "    func()\n",
        "    end = time.time()\n",
        "    print(end-start)\n",
        "  return timer_test_inner"
      ],
      "metadata": {
        "id": "Q9mAO_ZSQRO2"
      },
      "execution_count": null,
      "outputs": []
    },
    {
      "cell_type": "code",
      "source": [
        "def test1():\n",
        "  print(45+78)"
      ],
      "metadata": {
        "id": "48uAYv4DQeBu"
      },
      "execution_count": null,
      "outputs": []
    },
    {
      "cell_type": "code",
      "source": [
        "test1()"
      ],
      "metadata": {
        "id": "QZb8q-bZQhw_"
      },
      "execution_count": null,
      "outputs": []
    },
    {
      "cell_type": "code",
      "source": [
        "@timer_test\n",
        "def test1():\n",
        "  print(45+78)"
      ],
      "metadata": {
        "id": "eGbZNa3CQnvw"
      },
      "execution_count": null,
      "outputs": []
    },
    {
      "cell_type": "code",
      "source": [
        "test1()"
      ],
      "metadata": {
        "id": "3JNCd15dRNkS"
      },
      "execution_count": null,
      "outputs": []
    },
    {
      "cell_type": "markdown",
      "source": [
        "SPECIAL( MAGIC or DUNDER) Method"
      ],
      "metadata": {
        "id": "Svf-YeIxUxK4"
      }
    },
    {
      "cell_type": "code",
      "source": [
        "class rkmp:\n",
        "  def __init__(self):\n",
        "    self.mobile_number = 955648651\n",
        "  def __str__(self):\n",
        "    return \"this is my magic call of str\""
      ],
      "metadata": {
        "id": "aE0yaYfMgdu0"
      },
      "execution_count": null,
      "outputs": []
    },
    {
      "cell_type": "code",
      "source": [
        "psw = rkmp()\n",
        "psw"
      ],
      "metadata": {
        "id": "19Px7cOAgxlU"
      },
      "execution_count": null,
      "outputs": []
    },
    {
      "cell_type": "code",
      "source": [
        "print(psw)"
      ],
      "metadata": {
        "id": "IITRxl-Mg6pS"
      },
      "execution_count": null,
      "outputs": []
    },
    {
      "cell_type": "code",
      "source": [
        "a= 100\n",
        "a+5"
      ],
      "metadata": {
        "id": "XZfXIO3ihDA8"
      },
      "execution_count": null,
      "outputs": []
    },
    {
      "cell_type": "code",
      "source": [
        "# With the help of magic method/function.\n",
        "b = 103\n",
        "b.__add__(5)"
      ],
      "metadata": {
        "id": "juD8RkUThaEd"
      },
      "execution_count": null,
      "outputs": []
    },
    {
      "cell_type": "markdown",
      "source": [
        "## Working with **Files**"
      ],
      "metadata": {
        "id": "X7SjwOKYNE_u"
      }
    },
    {
      "cell_type": "code",
      "source": [
        "from google.colab import drive\n",
        "drive.mount('/content/drive')"
      ],
      "metadata": {
        "id": "OMhSoqAaN2RH"
      },
      "execution_count": null,
      "outputs": []
    },
    {
      "cell_type": "code",
      "source": [
        "f = open(\"test.txt\", \"w\")"
      ],
      "metadata": {
        "id": "TKXVwvDENNAh"
      },
      "execution_count": null,
      "outputs": []
    },
    {
      "cell_type": "code",
      "source": [
        "pwd"
      ],
      "metadata": {
        "id": "N0qrsFu6Nb34"
      },
      "execution_count": null,
      "outputs": []
    },
    {
      "cell_type": "code",
      "source": [
        "ls"
      ],
      "metadata": {
        "id": "RKYN_BZBOMP3"
      },
      "execution_count": null,
      "outputs": []
    },
    {
      "cell_type": "code",
      "source": [
        "f.write(\" This is my first file to write\")"
      ],
      "metadata": {
        "id": "wgxjXORdOWc4"
      },
      "execution_count": null,
      "outputs": []
    },
    {
      "cell_type": "code",
      "source": [
        "f.close()"
      ],
      "metadata": {
        "id": "hWpAlbR_Otmy"
      },
      "execution_count": null,
      "outputs": []
    },
    {
      "cell_type": "code",
      "source": [
        "f = open(\"test.txt\",\"w\")"
      ],
      "metadata": {
        "id": "u0AEDyDhOz7Z"
      },
      "execution_count": null,
      "outputs": []
    },
    {
      "cell_type": "code",
      "source": [
        "f.write(\"This is my new one\")"
      ],
      "metadata": {
        "id": "HN1JtE2jO_Wl"
      },
      "execution_count": null,
      "outputs": []
    },
    {
      "cell_type": "code",
      "source": [
        "f.close()"
      ],
      "metadata": {
        "id": "1E0omAmVPH0b"
      },
      "execution_count": null,
      "outputs": []
    },
    {
      "cell_type": "code",
      "source": [
        "f = open(\"test.txt\",\"a\")\n",
        "f.write(\"Jay kumar is a good boy. He is going to bhopal.\")"
      ],
      "metadata": {
        "id": "K7AgurzRPcBp"
      },
      "execution_count": null,
      "outputs": []
    },
    {
      "cell_type": "code",
      "source": [
        "f.close()"
      ],
      "metadata": {
        "id": "J-1tYsAaPvD1"
      },
      "execution_count": null,
      "outputs": []
    },
    {
      "cell_type": "code",
      "source": [
        "f = open(\"test.txt\",\"r\")\n",
        "f.read()\n",
        "f.seek(0) # point to the 0 index.\n",
        "f.readline()"
      ],
      "metadata": {
        "id": "ncgZOfBJP9U4"
      },
      "execution_count": null,
      "outputs": []
    },
    {
      "cell_type": "code",
      "source": [
        "import os\n",
        "os.path.getsize(\"test.txt\") # give the actual size of the file.\n",
        "os.remove(\"test.txt\") # this will remove the file."
      ],
      "metadata": {
        "id": "46vfoeMZQvbb"
      },
      "execution_count": null,
      "outputs": []
    },
    {
      "cell_type": "code",
      "source": [
        "f = open(\"test1.txt\",\"w\")\n",
        "f.write(\"This is my first file to write\")\n",
        "f.close()"
      ],
      "metadata": {
        "id": "gCjPMtqtROuj"
      },
      "execution_count": null,
      "outputs": []
    },
    {
      "cell_type": "code",
      "source": [
        "os.rename(\"test1.txt\",\"test.txt\")"
      ],
      "metadata": {
        "id": "YaSDqSwWRdnS"
      },
      "execution_count": null,
      "outputs": []
    },
    {
      "cell_type": "code",
      "source": [
        "with open(\"test.txt\",\"r\") as f:\n",
        "  print(f.read())"
      ],
      "metadata": {
        "id": "TmuZeyUfR3r3"
      },
      "execution_count": null,
      "outputs": []
    },
    {
      "cell_type": "markdown",
      "source": [
        "Files reading and Writing\n"
      ],
      "metadata": {
        "id": "x-QHcFgNSvOT"
      }
    },
    {
      "cell_type": "code",
      "source": [
        "data = {\n",
        "    \"name\": \"sudh\",\n",
        "    \"mail_id\": \"sudh@gmail.com\",\n",
        "    \"phone_number\": 9876543210,\n",
        "    \"subject\": [\"data science\", \"big data\", \"data analytics\"]\n",
        "}\n"
      ],
      "metadata": {
        "id": "1vnBf6EDSz74"
      },
      "execution_count": null,
      "outputs": []
    },
    {
      "cell_type": "code",
      "source": [
        "import json"
      ],
      "metadata": {
        "id": "yF7yDxIgS114"
      },
      "execution_count": null,
      "outputs": []
    },
    {
      "cell_type": "code",
      "source": [
        "with open(\"data.json\",\"w\") as f:\n",
        "  json.dump(data,f)"
      ],
      "metadata": {
        "id": "4GFQzGMSTFlY"
      },
      "execution_count": null,
      "outputs": []
    },
    {
      "cell_type": "code",
      "source": [
        "with open(\"data.json\",\"r\") as f:\n",
        "  data1 = json.load(f)\n",
        "data1"
      ],
      "metadata": {
        "id": "_E5wbxUyT19F"
      },
      "execution_count": null,
      "outputs": []
    },
    {
      "cell_type": "code",
      "source": [
        "data1['subject'][1]"
      ],
      "metadata": {
        "id": "As7fVdj6U2dd"
      },
      "execution_count": null,
      "outputs": []
    },
    {
      "cell_type": "markdown",
      "source": [
        "Write and reading data in csv files\n"
      ],
      "metadata": {
        "id": "Cod93cO3U-C9"
      }
    },
    {
      "cell_type": "code",
      "source": [
        "import csv"
      ],
      "metadata": {
        "id": "Uh7PedvpVKNe"
      },
      "execution_count": null,
      "outputs": []
    },
    {
      "cell_type": "code",
      "source": [
        "data = [\n",
        "    [\"name\", \"email_id\", \"number\"],\n",
        "    [\"sudh\", \"sudh@gmail.com\", 9876543210],\n",
        "    [\"krish\", \"krish@gmail.com\", 8765432109]\n",
        "]"
      ],
      "metadata": {
        "id": "B45aeE1hU9Ym"
      },
      "execution_count": null,
      "outputs": []
    },
    {
      "cell_type": "code",
      "source": [
        "with open(\"data.csv\",\"w\") as f:\n",
        "  writer = csv.writer(f)\n",
        "  for i in data:\n",
        "    writer.writerow(i)"
      ],
      "metadata": {
        "id": "q5WfGZW3VQbl"
      },
      "execution_count": null,
      "outputs": []
    },
    {
      "cell_type": "code",
      "source": [
        "with open(\"data.csv\",\"r\") as f:\n",
        "  read_data= csv.reader(f)\n",
        "  for i in read_data:\n",
        "    print(i)\n"
      ],
      "metadata": {
        "id": "Kmyvq0SmWhXt"
      },
      "execution_count": null,
      "outputs": []
    },
    {
      "cell_type": "markdown",
      "source": [
        "storing binary data\n"
      ],
      "metadata": {
        "id": "n3t3sCeqXFAr"
      }
    },
    {
      "cell_type": "code",
      "source": [
        "with open(\"text.bin\",\"wb\") as f:\n",
        "  f.write(b\"\\x01\\x02\\x03\")"
      ],
      "metadata": {
        "id": "h9WOufafXI-O"
      },
      "execution_count": null,
      "outputs": []
    },
    {
      "cell_type": "code",
      "source": [
        "with open(\"text.bin\",\"rb\") as f:\n",
        "  print(f.read())"
      ],
      "metadata": {
        "id": "qD5Op6DqX04t"
      },
      "execution_count": null,
      "outputs": []
    },
    {
      "cell_type": "markdown",
      "source": [
        "buffered mode read and write files"
      ],
      "metadata": {
        "id": "_fuWAjShfUq9"
      }
    },
    {
      "cell_type": "code",
      "source": [
        "import io\n",
        "with open(\"Test1.txt\",\"wb\") as f:\n",
        "  file = io.BufferedWriter(f)\n",
        "  file.write(b\"This is my first line\\n\")\n",
        "  file.write(b\"This is my second line\\n\")\n",
        "  file.flush()"
      ],
      "metadata": {
        "id": "fd7aBeG_fYFa"
      },
      "execution_count": null,
      "outputs": []
    },
    {
      "cell_type": "markdown",
      "source": [
        "# Logging debuggers"
      ],
      "metadata": {
        "id": "hN7f3V-QiV0f"
      }
    },
    {
      "cell_type": "code",
      "source": [
        "print(\"This is print the statement into console\") # will print the statement into console."
      ],
      "metadata": {
        "colab": {
          "base_uri": "https://localhost:8080/"
        },
        "id": "RQDI_CtxiaqL",
        "outputId": "42b18e3f-3a8f-48bd-c76b-d90c32cbc445"
      },
      "execution_count": null,
      "outputs": [
        {
          "output_type": "stream",
          "name": "stdout",
          "text": [
            "This is print the statement into console\n"
          ]
        }
      ]
    },
    {
      "cell_type": "code",
      "source": [
        "import logging\n",
        "import os"
      ],
      "metadata": {
        "id": "gNYesrh3il0I"
      },
      "execution_count": null,
      "outputs": []
    },
    {
      "cell_type": "code",
      "source": [
        "logging.basicConfig(filename=\"dataword.log\", level=logging.INFO)"
      ],
      "metadata": {
        "id": "6ArqjOyDtoEb"
      },
      "execution_count": null,
      "outputs": []
    },
    {
      "source": [
        "logging.info(\"This is my line of execution\\n\")"
      ],
      "cell_type": "code",
      "metadata": {
        "id": "xrIWv01mu3VJ"
      },
      "execution_count": null,
      "outputs": []
    },
    {
      "cell_type": "code",
      "source": [
        "logging.shutdown()"
      ],
      "metadata": {
        "id": "AyZl6HzSue3m"
      },
      "execution_count": null,
      "outputs": []
    },
    {
      "cell_type": "markdown",
      "source": [
        "A debug log is a detailed record of events that occur during the execution of a software program. Think of it as a black box recorder for your application. It meticulously captures information about what the code is doing, providing developers with a crucial tool for diagnosing problems.\n",
        "1. NOTSET\n",
        "2. DEBUG\n",
        "3. WARNING\n",
        "4. ERROR\n",
        "5. INFO\n",
        "6. CRITICAL"
      ],
      "metadata": {
        "id": "hbsAT09PjSVF"
      }
    },
    {
      "cell_type": "markdown",
      "source": [
        "# Exception handling"
      ],
      "metadata": {
        "id": "5FCm-352zgSF"
      }
    },
    {
      "cell_type": "code",
      "source": [
        "try:\n",
        "  a = 10\n",
        "  10/0\n",
        "except ZeroDivisionError as e:\n",
        "  print(e)"
      ],
      "metadata": {
        "colab": {
          "base_uri": "https://localhost:8080/"
        },
        "id": "0s00x5GiznnL",
        "outputId": "99fe9306-8f12-4a16-ff15-afb605fe31c8"
      },
      "execution_count": null,
      "outputs": [
        {
          "output_type": "stream",
          "name": "stdout",
          "text": [
            "division by zero\n"
          ]
        }
      ]
    },
    {
      "cell_type": "code",
      "source": [
        "try:\n",
        "  f = open(\"text.txt\",\"w\")\n",
        "  f.write(\"Write into my file\")\n",
        "except Exception as e:\n",
        "  print(\"This is my except block\", e)\n",
        "else:\n",
        "  f.close()\n",
        "  print(\"This will be executed once your try will execute without error\")"
      ],
      "metadata": {
        "colab": {
          "base_uri": "https://localhost:8080/"
        },
        "id": "m-IvwScez7KZ",
        "outputId": "176acd32-aa21-4f9a-8f03-e8bdc499f7b9"
      },
      "execution_count": null,
      "outputs": [
        {
          "output_type": "stream",
          "name": "stdout",
          "text": [
            "This will be executed once your try will execute without error\n"
          ]
        }
      ]
    },
    {
      "cell_type": "code",
      "source": [
        "try:\n",
        "  f = open(\"test2.txt\", \" w\")\n",
        "  f.write(\"Write something\")\n",
        "finally:\n",
        "  print(\"finally will execute itself in  any situation\")"
      ],
      "metadata": {
        "colab": {
          "base_uri": "https://localhost:8080/",
          "height": 237
        },
        "id": "RpiTtDKz0OOa",
        "outputId": "18518ab0-9bd4-4c46-9de3-5bc592b799a5"
      },
      "execution_count": null,
      "outputs": [
        {
          "output_type": "stream",
          "name": "stdout",
          "text": [
            "finally will execute itself in  any situation\n"
          ]
        },
        {
          "output_type": "error",
          "ename": "ValueError",
          "evalue": "invalid mode: ' w'",
          "traceback": [
            "\u001b[0;31m---------------------------------------------------------------------------\u001b[0m",
            "\u001b[0;31mValueError\u001b[0m                                Traceback (most recent call last)",
            "\u001b[0;32m<ipython-input-99-d4518d477638>\u001b[0m in \u001b[0;36m<cell line: 0>\u001b[0;34m()\u001b[0m\n\u001b[1;32m      1\u001b[0m \u001b[0;32mtry\u001b[0m\u001b[0;34m:\u001b[0m\u001b[0;34m\u001b[0m\u001b[0;34m\u001b[0m\u001b[0m\n\u001b[0;32m----> 2\u001b[0;31m   \u001b[0mf\u001b[0m \u001b[0;34m=\u001b[0m \u001b[0mopen\u001b[0m\u001b[0;34m(\u001b[0m\u001b[0;34m\"test2.txt\"\u001b[0m\u001b[0;34m,\u001b[0m \u001b[0;34m\" w\"\u001b[0m\u001b[0;34m)\u001b[0m\u001b[0;34m\u001b[0m\u001b[0;34m\u001b[0m\u001b[0m\n\u001b[0m\u001b[1;32m      3\u001b[0m   \u001b[0mf\u001b[0m\u001b[0;34m.\u001b[0m\u001b[0mwrite\u001b[0m\u001b[0;34m(\u001b[0m\u001b[0;34m\"Write something\"\u001b[0m\u001b[0;34m)\u001b[0m\u001b[0;34m\u001b[0m\u001b[0;34m\u001b[0m\u001b[0m\n\u001b[1;32m      4\u001b[0m \u001b[0;32mfinally\u001b[0m\u001b[0;34m:\u001b[0m\u001b[0;34m\u001b[0m\u001b[0;34m\u001b[0m\u001b[0m\n\u001b[1;32m      5\u001b[0m   \u001b[0mprint\u001b[0m\u001b[0;34m(\u001b[0m\u001b[0;34m\"finally will execute itself in  any situation\"\u001b[0m\u001b[0;34m)\u001b[0m\u001b[0;34m\u001b[0m\u001b[0;34m\u001b[0m\u001b[0m\n",
            "\u001b[0;31mValueError\u001b[0m: invalid mode: ' w'"
          ]
        }
      ]
    },
    {
      "source": [
        "import logging,os,sys\n",
        "logging.basicConfig(filename= \"error.log\", level=logging.ERROR)\n",
        "with open(\"error.log\",\"wb\") as f:\n",
        "    try:\n",
        "        10/0\n",
        "    except ZeroDivisionError as e:\n",
        "        # The f variable is not used in this block, so writing to the file handle isn't necessary for this specific error logging.\n",
        "        logging.error(\"This is my zero division error i am handling {}\".format(e))"
      ],
      "cell_type": "code",
      "metadata": {
        "id": "mT88Bo_12rE2"
      },
      "execution_count": null,
      "outputs": []
    },
    {
      "cell_type": "code",
      "source": [
        "f.close()"
      ],
      "metadata": {
        "id": "Qyyc7olR3VQM"
      },
      "execution_count": null,
      "outputs": []
    },
    {
      "source": [
        "import logging, os\n",
        "# Corrected the typo in the function name\n",
        "logging.basicConfig(filename=\"data.log\", level=logging.DEBUG, force=True)"
      ],
      "cell_type": "code",
      "metadata": {
        "id": "6sxEqOGFXGfs"
      },
      "execution_count": 1,
      "outputs": []
    },
    {
      "cell_type": "code",
      "source": [
        "logging.info(\"This is information\")"
      ],
      "metadata": {
        "id": "GfHyxAr_Zvj6"
      },
      "execution_count": 2,
      "outputs": []
    },
    {
      "cell_type": "code",
      "source": [
        "logging.basicConfig(filename=\"test.log\",level=logging.DEBUG, force=True, format='%(asctime)s %(message)s')"
      ],
      "metadata": {
        "id": "UYiagdtTXyen"
      },
      "execution_count": 3,
      "outputs": []
    },
    {
      "cell_type": "code",
      "source": [
        "logging.error(\"This is error msg\")"
      ],
      "metadata": {
        "id": "O57Vw8GBYKvY"
      },
      "execution_count": 4,
      "outputs": []
    },
    {
      "cell_type": "code",
      "source": [
        "import shutil\n",
        "shutil.move('data.log','/content/drive/MyDrive')"
      ],
      "metadata": {
        "colab": {
          "base_uri": "https://localhost:8080/",
          "height": 36
        },
        "id": "Bk73_SRbYZoZ",
        "outputId": "0eeac436-469f-4bb1-bff1-fc2282163074"
      },
      "execution_count": 7,
      "outputs": [
        {
          "output_type": "execute_result",
          "data": {
            "text/plain": [
              "'/content/drive/MyDrive/data.log'"
            ],
            "application/vnd.google.colaboratory.intrinsic+json": {
              "type": "string"
            }
          },
          "metadata": {},
          "execution_count": 7
        }
      ]
    }
  ]
}