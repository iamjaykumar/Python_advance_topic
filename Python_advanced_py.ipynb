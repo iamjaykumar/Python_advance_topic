{
  "nbformat": 4,
  "nbformat_minor": 0,
  "metadata": {
    "colab": {
      "provenance": [],
      "gpuType": "T4",
      "authorship_tag": "ABX9TyPy7rRqtDp6okpux8WGuugH",
      "include_colab_link": true
    },
    "kernelspec": {
      "name": "python3",
      "display_name": "Python 3"
    },
    "language_info": {
      "name": "python"
    }
  },
  "cells": [
    {
      "cell_type": "markdown",
      "metadata": {
        "id": "view-in-github",
        "colab_type": "text"
      },
      "source": [
        "<a href=\"https://colab.research.google.com/github/iamjaykumar/Python_advance_topic/blob/main/Python_advanced_py.ipynb\" target=\"_parent\"><img src=\"https://colab.research.google.com/assets/colab-badge.svg\" alt=\"Open In Colab\"/></a>"
      ]
    },
    {
      "cell_type": "markdown",
      "source": [
        "#Comprehension in python\n"
      ],
      "metadata": {
        "id": "rYNpZ0Fvnemm"
      }
    },
    {
      "cell_type": "markdown",
      "source": [
        "Comprehensions in Python provide a concise and efficient way to create new sequences from existing ones. They enhance code readability and reduce the need for lengthy loops. Python supports four types of comprehensions:\n",
        "\n",
        "List Comprehensions\n",
        "Dictionary Comprehensions\n",
        "Set Comprehensions\n",
        "Generator Comprehensions"
      ],
      "metadata": {
        "id": "y61oqbUFpTYg"
      }
    },
    {
      "cell_type": "code",
      "source": [
        "l = [1,2,3,4,45,5]\n",
        "l1 = []\n",
        "for i in l:\n",
        "  l1.append(i**2)"
      ],
      "metadata": {
        "id": "dMOm0pPGpWXc"
      },
      "execution_count": null,
      "outputs": []
    },
    {
      "cell_type": "code",
      "source": [
        "l1"
      ],
      "metadata": {
        "colab": {
          "base_uri": "https://localhost:8080/"
        },
        "id": "_imVcO2LpmmW",
        "outputId": "fcedff80-a668-4388-d299-38b754db4b41"
      },
      "execution_count": null,
      "outputs": [
        {
          "output_type": "execute_result",
          "data": {
            "text/plain": [
              "[1, 4, 9, 16, 2025, 25]"
            ]
          },
          "metadata": {},
          "execution_count": 6
        }
      ]
    },
    {
      "cell_type": "markdown",
      "source": [
        "These can be done with the help of comprehension in one line in python\n"
      ],
      "metadata": {
        "id": "kr5c7G_2p0fX"
      }
    },
    {
      "cell_type": "code",
      "source": [
        "l"
      ],
      "metadata": {
        "colab": {
          "base_uri": "https://localhost:8080/"
        },
        "id": "ES2-EAtsp9do",
        "outputId": "a5607210-bc40-4710-a467-af3c0e958d1b"
      },
      "execution_count": null,
      "outputs": [
        {
          "output_type": "execute_result",
          "data": {
            "text/plain": [
              "[1, 2, 3, 4, 45, 5]"
            ]
          },
          "metadata": {},
          "execution_count": 7
        }
      ]
    },
    {
      "cell_type": "code",
      "source": [
        "[i**2 for i in l] #do i**2, in for loop"
      ],
      "metadata": {
        "id": "oqk22zDvqAz9"
      },
      "execution_count": null,
      "outputs": []
    },
    {
      "cell_type": "code",
      "source": [
        "#getting even number\n",
        "[i for i in l if i%2 == 0]"
      ],
      "metadata": {
        "id": "gDG_ScDDsBqz"
      },
      "execution_count": null,
      "outputs": []
    },
    {
      "cell_type": "code",
      "source": [
        "l1 = [\"sudh\", \"pwskills\", \"kumar\", \"data science masters\"]"
      ],
      "metadata": {
        "id": "PnGWrDutsg_h"
      },
      "execution_count": null,
      "outputs": []
    },
    {
      "cell_type": "code",
      "source": [
        "[i.upper() for i in l1]"
      ],
      "metadata": {
        "id": "_VNoxg0vspFS"
      },
      "execution_count": null,
      "outputs": []
    },
    {
      "cell_type": "code",
      "source": [
        "# same thing will happen in tuple\n",
        "l\n",
        "list(i**2 for i in l)"
      ],
      "metadata": {
        "id": "0VrkYaqhsx_W"
      },
      "execution_count": null,
      "outputs": []
    },
    {
      "cell_type": "markdown",
      "source": [
        "Comprehension in dictionary"
      ],
      "metadata": {
        "id": "7hE7_6-RtI0P"
      }
    },
    {
      "cell_type": "code",
      "source": [
        "d = {\"key1\":1, \"key2\":2, \"key3\":3, \"key4\":4}"
      ],
      "metadata": {
        "id": "pMDTzB1AtMeI"
      },
      "execution_count": null,
      "outputs": []
    },
    {
      "cell_type": "code",
      "source": [
        "d.items()\n",
        "d"
      ],
      "metadata": {
        "id": "_iKj-EMOtV7k"
      },
      "execution_count": null,
      "outputs": []
    },
    {
      "cell_type": "code",
      "source": [
        "{k:v**2 for k, v in d.items()}"
      ],
      "metadata": {
        "colab": {
          "base_uri": "https://localhost:8080/"
        },
        "id": "aXYk0LL1tgKK",
        "outputId": "d9542f8d-8c93-430f-b05b-fb737f11aaf4"
      },
      "execution_count": null,
      "outputs": [
        {
          "output_type": "execute_result",
          "data": {
            "text/plain": [
              "{'key1': 1, 'key2': 4, 'key3': 9, 'key4': 16}"
            ]
          },
          "metadata": {},
          "execution_count": 17
        }
      ]
    },
    {
      "cell_type": "code",
      "source": [
        "{k:v for k, v in d.items() if v>1} # key value pair, in loop then condition."
      ],
      "metadata": {
        "colab": {
          "base_uri": "https://localhost:8080/"
        },
        "id": "IyNtvuJrt4Jv",
        "outputId": "68510db2-afce-4eca-d22b-4287c3f4daa2"
      },
      "execution_count": null,
      "outputs": [
        {
          "output_type": "execute_result",
          "data": {
            "text/plain": [
              "{'key2': 2, 'key3': 3, 'key4': 4}"
            ]
          },
          "metadata": {},
          "execution_count": 19
        }
      ]
    },
    {
      "cell_type": "markdown",
      "source": [
        "# Generator function in python\n"
      ],
      "metadata": {
        "id": "SQ1saTyf0eaz"
      }
    },
    {
      "cell_type": "markdown",
      "source": [
        "yield: Produce a sequence of values\n",
        "  *Purpose: Pause the function, saving its state and yields(throw) a value to the caller.\n",
        "  *Behavior: The function can be resumed later, continuing execution from where it left off. This makes it a generator.\n",
        "  *Use Case: When you want to produce a sequence of values lazily, especially useful for large datasets or streams. USED IN GENERATOR FUNCTION.\n",
        "\n",
        "return: Exit and Return a Value\n",
        "  *Purpose: Exits the function and returns a value to the caller.\n",
        "  *Behavior: Once a return statement is executed, the function terminates, and no further code in the function is executed.\n",
        "  *Use Case: When you want to compute a value and send it back immediately."
      ],
      "metadata": {
        "id": "nx3-MsGB1swX"
      }
    },
    {
      "cell_type": "code",
      "source": [
        "range(10)\n"
      ],
      "metadata": {
        "colab": {
          "base_uri": "https://localhost:8080/"
        },
        "id": "4RI8MAC74acV",
        "outputId": "3240537f-21ed-4b07-f20b-d578a8730094"
      },
      "execution_count": null,
      "outputs": [
        {
          "output_type": "execute_result",
          "data": {
            "text/plain": [
              "range(0, 10)"
            ]
          },
          "metadata": {},
          "execution_count": 1
        }
      ]
    },
    {
      "cell_type": "code",
      "source": [
        "for i in range(10):\n",
        "  print(i)"
      ],
      "metadata": {
        "colab": {
          "base_uri": "https://localhost:8080/"
        },
        "id": "n6uMT-Ml43ZL",
        "outputId": "d094af2c-56f7-45ec-fe48-6535f95b8275"
      },
      "execution_count": null,
      "outputs": [
        {
          "output_type": "stream",
          "name": "stdout",
          "text": [
            "0\n",
            "1\n",
            "2\n",
            "3\n",
            "4\n",
            "5\n",
            "6\n",
            "7\n",
            "8\n",
            "9\n"
          ]
        }
      ]
    },
    {
      "cell_type": "code",
      "source": [
        "def test_fib(n):\n",
        "  a,b = 0,1\n",
        "  for i in range(n):\n",
        "    yield a\n",
        "    a,b = b, a+b"
      ],
      "metadata": {
        "id": "WCnN9kt_5HCa"
      },
      "execution_count": null,
      "outputs": []
    },
    {
      "cell_type": "code",
      "source": [
        "test_fib(10)"
      ],
      "metadata": {
        "colab": {
          "base_uri": "https://localhost:8080/"
        },
        "id": "JsCePbd95XS7",
        "outputId": "6c8735c7-9eb6-41f9-d6c4-72dce8dfa7ca"
      },
      "execution_count": null,
      "outputs": [
        {
          "output_type": "execute_result",
          "data": {
            "text/plain": [
              "<generator object test_fib at 0x7ab60bc21b70>"
            ]
          },
          "metadata": {},
          "execution_count": 5
        }
      ]
    },
    {
      "cell_type": "code",
      "source": [
        "for i in test_fib(10):\n",
        "  print(i)"
      ],
      "metadata": {
        "colab": {
          "base_uri": "https://localhost:8080/"
        },
        "id": "u0wTS22s5nyy",
        "outputId": "58c5da9c-7df2-421a-dc65-1568273edb82"
      },
      "execution_count": null,
      "outputs": [
        {
          "output_type": "stream",
          "name": "stdout",
          "text": [
            "0\n",
            "1\n",
            "1\n",
            "2\n",
            "3\n",
            "5\n",
            "8\n",
            "13\n",
            "21\n",
            "34\n"
          ]
        }
      ]
    },
    {
      "cell_type": "code",
      "source": [
        "s = \"sudh\""
      ],
      "metadata": {
        "id": "8FOCwujD5trN"
      },
      "execution_count": null,
      "outputs": []
    },
    {
      "cell_type": "code",
      "source": [
        "for i in s:\n",
        "  print(i)"
      ],
      "metadata": {
        "colab": {
          "base_uri": "https://localhost:8080/"
        },
        "id": "Pq8nqbhX7FVt",
        "outputId": "eb9314a7-2196-4087-8ecc-083c9a569687"
      },
      "execution_count": null,
      "outputs": [
        {
          "output_type": "stream",
          "name": "stdout",
          "text": [
            "s\n",
            "u\n",
            "d\n",
            "h\n"
          ]
        }
      ]
    },
    {
      "cell_type": "code",
      "source": [
        "s"
      ],
      "metadata": {
        "colab": {
          "base_uri": "https://localhost:8080/",
          "height": 36
        },
        "id": "ZBGp0nq97PAp",
        "outputId": "0add454e-4fb0-47f9-d388-998abc70d8a3"
      },
      "execution_count": null,
      "outputs": [
        {
          "output_type": "execute_result",
          "data": {
            "text/plain": [
              "'sudh'"
            ],
            "application/vnd.google.colaboratory.intrinsic+json": {
              "type": "string"
            }
          },
          "metadata": {},
          "execution_count": 10
        }
      ]
    },
    {
      "cell_type": "code",
      "source": [
        "next(s)"
      ],
      "metadata": {
        "colab": {
          "base_uri": "https://localhost:8080/",
          "height": 146
        },
        "id": "bYZdtifD7YZS",
        "outputId": "f143e4ed-051a-40b4-8d03-03175c2aecd6"
      },
      "execution_count": null,
      "outputs": [
        {
          "output_type": "error",
          "ename": "TypeError",
          "evalue": "'str' object is not an iterator",
          "traceback": [
            "\u001b[0;31m---------------------------------------------------------------------------\u001b[0m",
            "\u001b[0;31mTypeError\u001b[0m                                 Traceback (most recent call last)",
            "\u001b[0;32m<ipython-input-11-61c30b5fe1d5>\u001b[0m in \u001b[0;36m<cell line: 0>\u001b[0;34m()\u001b[0m\n\u001b[0;32m----> 1\u001b[0;31m \u001b[0mnext\u001b[0m\u001b[0;34m(\u001b[0m\u001b[0ms\u001b[0m\u001b[0;34m)\u001b[0m\u001b[0;34m\u001b[0m\u001b[0;34m\u001b[0m\u001b[0m\n\u001b[0m",
            "\u001b[0;31mTypeError\u001b[0m: 'str' object is not an iterator"
          ]
        }
      ]
    },
    {
      "cell_type": "code",
      "source": [
        "s_iter = iter(s)"
      ],
      "metadata": {
        "id": "XgzI3O8x7aou"
      },
      "execution_count": null,
      "outputs": []
    },
    {
      "cell_type": "code",
      "source": [
        "next(s_iter)"
      ],
      "metadata": {
        "colab": {
          "base_uri": "https://localhost:8080/",
          "height": 36
        },
        "id": "w690fwqf9ra3",
        "outputId": "c44e3048-5729-4510-bcdc-e80d125fd8a5"
      },
      "execution_count": null,
      "outputs": [
        {
          "output_type": "execute_result",
          "data": {
            "text/plain": [
              "'d'"
            ],
            "application/vnd.google.colaboratory.intrinsic+json": {
              "type": "string"
            }
          },
          "metadata": {},
          "execution_count": 3
        }
      ]
    },
    {
      "cell_type": "code",
      "source": [
        "next(s_iter)"
      ],
      "metadata": {
        "colab": {
          "base_uri": "https://localhost:8080/",
          "height": 36
        },
        "id": "ZSq5BtXL9wUE",
        "outputId": "72c894da-0f11-45dc-f297-6adb846c8eba"
      },
      "execution_count": null,
      "outputs": [
        {
          "output_type": "execute_result",
          "data": {
            "text/plain": [
              "'s'"
            ],
            "application/vnd.google.colaboratory.intrinsic+json": {
              "type": "string"
            }
          },
          "metadata": {},
          "execution_count": 5
        }
      ]
    },
    {
      "source": [
        "s = \"sudh\"\n",
        "s_iter = iter(s)  # Create an iterator from the string\n",
        "next(s_iter)     # Now you can use next()"
      ],
      "cell_type": "code",
      "metadata": {
        "colab": {
          "base_uri": "https://localhost:8080/",
          "height": 36
        },
        "id": "s5pvSHnpBdtC",
        "outputId": "2f6e3d0a-48ac-4e21-cbe0-e9921091a872"
      },
      "execution_count": null,
      "outputs": [
        {
          "output_type": "execute_result",
          "data": {
            "text/plain": [
              "'s'"
            ],
            "application/vnd.google.colaboratory.intrinsic+json": {
              "type": "string"
            }
          },
          "metadata": {},
          "execution_count": 6
        }
      ]
    },
    {
      "cell_type": "markdown",
      "source": [
        "# Lambda_function & map,reduce and filter function."
      ],
      "metadata": {
        "id": "i8QMsdQoO2zk"
      }
    },
    {
      "cell_type": "markdown",
      "source": [
        "A lambda function is a small anonymous function.\n",
        "\n",
        "A lambda function can take any number of arguments, but can only have one expression.\n",
        "Why Use Lambda Functions?\n",
        "The power of lambda is better shown when you use them as an anonymous function inside another function.\n",
        "\n",
        "Say you have a function definition that takes one argument, and that argument will be multiplied with an unknown number:\n",
        "\n",
        "\n",
        "\n",
        "```\n",
        "# This is formatted as code\n",
        "def myfunc(n):\n",
        "  return lambda a : a * n\n",
        "```\n",
        "\n"
      ],
      "metadata": {
        "id": "pVnizXM_PLmd"
      }
    },
    {
      "cell_type": "code",
      "source": [
        "n = 3\n",
        "p=2"
      ],
      "metadata": {
        "id": "7nsx2RjOQdzc"
      },
      "execution_count": null,
      "outputs": []
    },
    {
      "cell_type": "code",
      "source": [
        "def test(n,p):\n",
        "  return n**p"
      ],
      "metadata": {
        "id": "u7rQKbQhQo36"
      },
      "execution_count": null,
      "outputs": []
    },
    {
      "cell_type": "code",
      "source": [
        "a= test(4,5)\n",
        "a"
      ],
      "metadata": {
        "id": "komKFKaaQ67f"
      },
      "execution_count": null,
      "outputs": []
    },
    {
      "cell_type": "code",
      "source": [
        "#this can be done with lambda function in a single expression\n",
        "b = lambda n,p: n**p"
      ],
      "metadata": {
        "id": "c4P0TTRtRKOR"
      },
      "execution_count": null,
      "outputs": []
    },
    {
      "cell_type": "code",
      "source": [
        "b(4,5)"
      ],
      "metadata": {
        "colab": {
          "base_uri": "https://localhost:8080/"
        },
        "id": "_8-GAypbRfXu",
        "outputId": "df613f6c-e67d-4441-a52c-fe711d5d4fad"
      },
      "execution_count": null,
      "outputs": [
        {
          "output_type": "execute_result",
          "data": {
            "text/plain": [
              "1024"
            ]
          },
          "metadata": {},
          "execution_count": 10
        }
      ]
    },
    {
      "cell_type": "code",
      "source": [
        "finding_min = lambda x,y : x if x>y else y"
      ],
      "metadata": {
        "id": "rB9grVFwSg7M"
      },
      "execution_count": null,
      "outputs": []
    },
    {
      "cell_type": "code",
      "source": [
        "finding_min(12312,12343248)"
      ],
      "metadata": {
        "colab": {
          "base_uri": "https://localhost:8080/"
        },
        "id": "qAWoEIv4SnuT",
        "outputId": "32f35dc8-993b-4b86-834a-48b0bfdcf8b4"
      },
      "execution_count": null,
      "outputs": [
        {
          "output_type": "execute_result",
          "data": {
            "text/plain": [
              "12343248"
            ]
          },
          "metadata": {},
          "execution_count": 14
        }
      ]
    },
    {
      "cell_type": "code",
      "source": [
        "# we can also do addition, substraction, division and multiplication etc....\n",
        "add = lambda x,y: x+y\n",
        "sub = lambda x,y: x-y\n",
        "mul = lambda x,y: x*y\n",
        "div = lambda x,y: x/y"
      ],
      "metadata": {
        "id": "hCKplycOS0La"
      },
      "execution_count": null,
      "outputs": []
    },
    {
      "cell_type": "code",
      "source": [
        "print(add(3,2))\n",
        "print(sub(3,2))\n",
        "print(mul(3,2))\n",
        "print(div(3,2))"
      ],
      "metadata": {
        "colab": {
          "base_uri": "https://localhost:8080/"
        },
        "id": "goXwVwI6TEaK",
        "outputId": "36d5cf0a-ba1e-40d4-8778-705df94b152a"
      },
      "execution_count": null,
      "outputs": [
        {
          "output_type": "stream",
          "name": "stdout",
          "text": [
            "5\n",
            "1\n",
            "6\n",
            "1.5\n"
          ]
        }
      ]
    },
    {
      "cell_type": "markdown",
      "source": [
        "Now, we'll talk about map, reduce and filter function."
      ],
      "metadata": {
        "id": "nozO2inBUMjE"
      }
    },
    {
      "cell_type": "code",
      "source": [
        "l = [2,3,4,5,6]"
      ],
      "metadata": {
        "id": "-1IDtxu3UYTu"
      },
      "execution_count": null,
      "outputs": []
    },
    {
      "cell_type": "code",
      "source": [
        "def sq(x):\n",
        "  return x**2"
      ],
      "metadata": {
        "id": "RgvHcCr2V_UN"
      },
      "execution_count": null,
      "outputs": []
    },
    {
      "cell_type": "code",
      "source": [
        "list(map(sq,l)) # map function only map the specific data"
      ],
      "metadata": {
        "colab": {
          "base_uri": "https://localhost:8080/"
        },
        "id": "0BT0R6WSWG5N",
        "outputId": "031d8fe7-443f-42f6-8b55-4a27c32b726b"
      },
      "execution_count": null,
      "outputs": [
        {
          "output_type": "execute_result",
          "data": {
            "text/plain": [
              "[4, 9, 16, 25, 36]"
            ]
          },
          "metadata": {},
          "execution_count": 29
        }
      ]
    },
    {
      "cell_type": "code",
      "source": [
        "list(map(lambda x: x**2, l))"
      ],
      "metadata": {
        "colab": {
          "base_uri": "https://localhost:8080/"
        },
        "id": "B_yl2EzoWLU_",
        "outputId": "8e3b3e3f-3ed8-4874-bcad-70e6a39804a1"
      },
      "execution_count": null,
      "outputs": [
        {
          "output_type": "execute_result",
          "data": {
            "text/plain": [
              "[4, 9, 16, 25, 36]"
            ]
          },
          "metadata": {},
          "execution_count": 30
        }
      ]
    },
    {
      "cell_type": "code",
      "source": [
        "l1 = [1,2,3,4,5]\n",
        "l2 = [6,7,8,9,10]\n",
        "list(map(lambda x,y : x+y ,l1,l2))"
      ],
      "metadata": {
        "colab": {
          "base_uri": "https://localhost:8080/"
        },
        "id": "RCE4YGlaWRox",
        "outputId": "84fe7bcf-668e-4878-d2bf-c8c25626b02c"
      },
      "execution_count": null,
      "outputs": [
        {
          "output_type": "execute_result",
          "data": {
            "text/plain": [
              "[7, 9, 11, 13, 15]"
            ]
          },
          "metadata": {},
          "execution_count": 31
        }
      ]
    },
    {
      "cell_type": "markdown",
      "source": [
        "The reduce() function in Python is a powerful tool for performing cumulative operations on a sequence of elements, reducing them to a single value. It is part of the functools module and is often used in functional programming."
      ],
      "metadata": {
        "id": "v8v3I5Uoae9X"
      }
    },
    {
      "cell_type": "code",
      "source": [
        "from functools import reduce"
      ],
      "metadata": {
        "id": "p3FW4dhIW4aw"
      },
      "execution_count": null,
      "outputs": []
    },
    {
      "cell_type": "code",
      "source": [
        "l = [3,4,5,6,7,8,9]"
      ],
      "metadata": {
        "id": "qgyHvS5iYZFp"
      },
      "execution_count": null,
      "outputs": []
    },
    {
      "cell_type": "code",
      "source": [
        "l"
      ],
      "metadata": {
        "colab": {
          "base_uri": "https://localhost:8080/"
        },
        "id": "TRIBq35ZYbV4",
        "outputId": "84ecca4a-7a5e-458d-c0ef-ea8d77d1bc1e"
      },
      "execution_count": null,
      "outputs": [
        {
          "output_type": "execute_result",
          "data": {
            "text/plain": [
              "[3, 4, 5, 6, 7, 8, 9]"
            ]
          },
          "metadata": {},
          "execution_count": 36
        }
      ]
    },
    {
      "cell_type": "code",
      "source": [
        "reduce(lambda x,y : x+y, l) # reduce function reduce the"
      ],
      "metadata": {
        "colab": {
          "base_uri": "https://localhost:8080/"
        },
        "id": "JxUmqAH6YjBX",
        "outputId": "b1908527-074e-4ef0-87da-cefe7e9b82e6"
      },
      "execution_count": null,
      "outputs": [
        {
          "output_type": "execute_result",
          "data": {
            "text/plain": [
              "42"
            ]
          },
          "metadata": {},
          "execution_count": 37
        }
      ]
    },
    {
      "cell_type": "code",
      "source": [
        "reduce(lambda x,y: x*y, l)"
      ],
      "metadata": {
        "colab": {
          "base_uri": "https://localhost:8080/"
        },
        "id": "Xgdqyh7GYxNN",
        "outputId": "dbbc6d6b-3399-4fd3-884a-6eff7a23ff5e"
      },
      "execution_count": null,
      "outputs": [
        {
          "output_type": "execute_result",
          "data": {
            "text/plain": [
              "181440"
            ]
          },
          "metadata": {},
          "execution_count": 38
        }
      ]
    },
    {
      "cell_type": "markdown",
      "source": [
        "The filter() function returns an iterator where the items are filtered through a function to test if the item is accepted or not.\n",
        "\n",
        "Parameter\tDescription\n",
        "function\tA Function to be run for each item in the iterable\n",
        "iterable\tThe iterable to be filtered"
      ],
      "metadata": {
        "id": "WX04xxHsbNHi"
      }
    },
    {
      "cell_type": "code",
      "source": [
        "l = [-13,1,2,3,4,5]\n",
        "l"
      ],
      "metadata": {
        "colab": {
          "base_uri": "https://localhost:8080/"
        },
        "id": "BHAqyQ3NdORS",
        "outputId": "1c0501c9-b226-49c6-c3e1-5c00bcca780d"
      },
      "execution_count": null,
      "outputs": [
        {
          "output_type": "execute_result",
          "data": {
            "text/plain": [
              "[-13, 1, 2, 3, 4, 5]"
            ]
          },
          "metadata": {},
          "execution_count": 43
        }
      ]
    },
    {
      "cell_type": "code",
      "source": [
        "list(filter(lambda x: x%2 == 0, l))"
      ],
      "metadata": {
        "colab": {
          "base_uri": "https://localhost:8080/"
        },
        "id": "Np6YFpIQdle3",
        "outputId": "8ee1379d-3081-4164-dfa0-0a9d89a443d9"
      },
      "execution_count": null,
      "outputs": [
        {
          "output_type": "execute_result",
          "data": {
            "text/plain": [
              "[2, 4]"
            ]
          },
          "metadata": {},
          "execution_count": 44
        }
      ]
    },
    {
      "cell_type": "code",
      "source": [
        "list(filter(lambda x: x<0,l ))"
      ],
      "metadata": {
        "colab": {
          "base_uri": "https://localhost:8080/"
        },
        "id": "qhRCQljwdsFL",
        "outputId": "1d907b03-17fd-4313-ed3b-13a935730794"
      },
      "execution_count": null,
      "outputs": [
        {
          "output_type": "execute_result",
          "data": {
            "text/plain": [
              "[-13]"
            ]
          },
          "metadata": {},
          "execution_count": 45
        }
      ]
    },
    {
      "cell_type": "code",
      "source": [
        "l2 = [\"sudh\", \"pwskills\",\"kumar\",\"banglore\",\"krish\"]\n",
        "list(filter(lambda x: len(x)>6, l2))"
      ],
      "metadata": {
        "colab": {
          "base_uri": "https://localhost:8080/"
        },
        "id": "1yrorqPyeBRl",
        "outputId": "0341eacf-a04f-43fa-8695-0c2cb3780216"
      },
      "execution_count": null,
      "outputs": [
        {
          "output_type": "execute_result",
          "data": {
            "text/plain": [
              "['pwskills', 'banglore']"
            ]
          },
          "metadata": {},
          "execution_count": 49
        }
      ]
    },
    {
      "cell_type": "markdown",
      "source": [
        "# Object Oriented Programming"
      ],
      "metadata": {
        "id": "PfnUzOQ1gaXL"
      }
    },
    {
      "cell_type": "code",
      "source": [
        "class test:\n",
        "  def welcome():\n",
        "    print(\"Welcome to Google collab\")"
      ],
      "metadata": {
        "id": "FLay5CAAgh_1"
      },
      "execution_count": null,
      "outputs": []
    },
    {
      "cell_type": "code",
      "source": [
        "a  = test()\n",
        "a.welcome()"
      ],
      "metadata": {
        "colab": {
          "base_uri": "https://localhost:8080/",
          "height": 164
        },
        "id": "XDIgr9C1kQe4",
        "outputId": "8d5264de-3823-4be4-e076-9e7b5fbb6972"
      },
      "execution_count": null,
      "outputs": [
        {
          "output_type": "error",
          "ename": "TypeError",
          "evalue": "test.welcome() takes 0 positional arguments but 1 was given",
          "traceback": [
            "\u001b[0;31m---------------------------------------------------------------------------\u001b[0m",
            "\u001b[0;31mTypeError\u001b[0m                                 Traceback (most recent call last)",
            "\u001b[0;32m<ipython-input-51-738943911cd1>\u001b[0m in \u001b[0;36m<cell line: 0>\u001b[0;34m()\u001b[0m\n\u001b[1;32m      1\u001b[0m \u001b[0ma\u001b[0m  \u001b[0;34m=\u001b[0m \u001b[0mtest\u001b[0m\u001b[0;34m(\u001b[0m\u001b[0;34m)\u001b[0m\u001b[0;34m\u001b[0m\u001b[0;34m\u001b[0m\u001b[0m\n\u001b[0;32m----> 2\u001b[0;31m \u001b[0ma\u001b[0m\u001b[0;34m.\u001b[0m\u001b[0mwelcome\u001b[0m\u001b[0;34m(\u001b[0m\u001b[0;34m)\u001b[0m\u001b[0;34m\u001b[0m\u001b[0;34m\u001b[0m\u001b[0m\n\u001b[0m",
            "\u001b[0;31mTypeError\u001b[0m: test.welcome() takes 0 positional arguments but 1 was given"
          ]
        }
      ]
    },
    {
      "cell_type": "markdown",
      "source": [
        "self is conventionally used as the first parameter in instance methods within a Python class. It represents the instance of the class itself.\n",
        "\n",
        "Here's why self is used:\n",
        "\n",
        "Accessing Instance Attributes and Methods: Within an instance method, self allows you to access the attributes (data) and other methods defined for that specific instance of the class. For example, if you had an attribute self.name, you would use self.name inside a method to refer to that instance's name.\n",
        "\n",
        "Distinguishing Instance Methods: When you define a method inside a class without self as the first parameter, it's treated as a static method or a class method (depending on decorators like @staticmethod or @classmethod). Including self explicitly marks it as an instance method, meaning it operates on a specific instance of the class.\n",
        "\n",
        "Implicit Passing: When you call an instance method on an object (like a.welcome()), Python automatically passes the object a as the first argument to the welcome method. This argument is received by the parameter self in the method's definition. You don't explicitly pass a when calling a.welcome().\n",
        "\n",
        "In essence, self acts as a reference to the object that the method is being called on, allowing the method to interact with the data and behavior of that particular object. While you could technically name this parameter something else, self is the universally accepted convention and makes the code much more readable and understandable to other Python developers."
      ],
      "metadata": {
        "id": "QFoQJPPjloHT"
      }
    },
    {
      "source": [
        "class test:\n",
        "  def welcome(self):\n",
        "    print(\"Welcome to Google collab\")\n",
        "\n",
        "a  = test()\n",
        "a.welcome()"
      ],
      "cell_type": "code",
      "metadata": {
        "colab": {
          "base_uri": "https://localhost:8080/"
        },
        "id": "sMghJYsYlSGL",
        "outputId": "dd2fa329-6582-46f9-e2f2-2c8a70bd8758"
      },
      "execution_count": null,
      "outputs": [
        {
          "output_type": "stream",
          "name": "stdout",
          "text": [
            "Welcome to Google collab\n"
          ]
        }
      ]
    },
    {
      "cell_type": "code",
      "source": [
        "class test1:\n",
        "  def __init__(self, phone_number, email_id, student_id):\n",
        "    self.phone_number = phone_number\n",
        "    self.email_id = email_id\n",
        "    self.student_id = student_id\n",
        "  def return_student_details(self):\n",
        "      return self.student_id, self.phone_number, self.email_id"
      ],
      "metadata": {
        "id": "l3mTkNBrn9lE"
      },
      "execution_count": null,
      "outputs": []
    },
    {
      "cell_type": "code",
      "source": [
        "jay = test1(87545645489, \"jay@gmail.com\", 101)"
      ],
      "metadata": {
        "id": "8ysKmATIseW3"
      },
      "execution_count": null,
      "outputs": []
    },
    {
      "cell_type": "code",
      "source": [
        "jay.return_student_details()"
      ],
      "metadata": {
        "colab": {
          "base_uri": "https://localhost:8080/"
        },
        "id": "vukjBCm8srpM",
        "outputId": "3210df3f-1a33-4e6a-a196-93caa0078ede"
      },
      "execution_count": null,
      "outputs": [
        {
          "output_type": "execute_result",
          "data": {
            "text/plain": [
              "(101, 87545645489, 'jay@gmail.com')"
            ]
          },
          "metadata": {},
          "execution_count": 56
        }
      ]
    },
    {
      "cell_type": "code",
      "source": [
        "bijay = test1(87545645489, \"bijay@gmail.com\", 102)"
      ],
      "metadata": {
        "id": "yljqoILjswMD"
      },
      "execution_count": null,
      "outputs": []
    },
    {
      "cell_type": "code",
      "source": [
        "bijay.return_student_details()"
      ],
      "metadata": {
        "colab": {
          "base_uri": "https://localhost:8080/"
        },
        "id": "JDlZTtrBtwZ2",
        "outputId": "1d01f446-fe5c-463e-db62-35ebf7bcfb16"
      },
      "execution_count": null,
      "outputs": [
        {
          "output_type": "execute_result",
          "data": {
            "text/plain": [
              "(102, 87545645489, 'bijay@gmail.com')"
            ]
          },
          "metadata": {},
          "execution_count": 58
        }
      ]
    },
    {
      "cell_type": "markdown",
      "source": [
        "Self is not a reverbed keyword. It is used for pointing or (pointer), we can also use other word as a keyword"
      ],
      "metadata": {
        "id": "QuKgYdafuPn-"
      }
    },
    {
      "cell_type": "code",
      "source": [
        "class test2:\n",
        "  def __init__(jay, phone_number, email_id, student_id):\n",
        "    jay.phone_number = phone_number\n",
        "    jay.email_id = email_id\n",
        "    jay.student_id = student_id\n",
        "  def return_student_details(jay):\n",
        "      return jay.student_id, jay.phone_number, jay.email_id"
      ],
      "metadata": {
        "id": "BmWnQp_3uvho"
      },
      "execution_count": null,
      "outputs": []
    },
    {
      "cell_type": "code",
      "source": [
        "buju = test2(87545645489, \"buju@gmail.com\", 103)\n",
        "buju.return_student_details()"
      ],
      "metadata": {
        "colab": {
          "base_uri": "https://localhost:8080/"
        },
        "id": "LrHoq48OvAIP",
        "outputId": "102d242d-e74b-4548-e015-2ee146550513"
      },
      "execution_count": null,
      "outputs": [
        {
          "output_type": "execute_result",
          "data": {
            "text/plain": [
              "(103, 87545645489, 'buju@gmail.com')"
            ]
          },
          "metadata": {},
          "execution_count": 60
        }
      ]
    },
    {
      "cell_type": "markdown",
      "source": [
        "# **POLYMORPHISM:** ONE ENTITY VARIOUS CHARACTER."
      ],
      "metadata": {
        "id": "zVFC1AI59VFH"
      }
    },
    {
      "cell_type": "code",
      "source": [
        "class datascience:\n",
        "  def syllabus(self):\n",
        "    print(\"this is my datascience class\")\n",
        "\n",
        "class web_dev:\n",
        "  def syllabus(self):\n",
        "    print(\"this is my web dev class\")"
      ],
      "metadata": {
        "id": "QzPA8-ls9i2D"
      },
      "execution_count": null,
      "outputs": []
    },
    {
      "cell_type": "code",
      "source": [
        "def class_parcer(class_obj):\n",
        "  for i in class_obj:\n",
        "    i.syllabus()"
      ],
      "metadata": {
        "id": "rY14xnkq-unz"
      },
      "execution_count": null,
      "outputs": []
    },
    {
      "cell_type": "code",
      "source": [
        "data_science= datascience()\n",
        "webdev = web_dev()"
      ],
      "metadata": {
        "id": "WQB1c-sz_AwH"
      },
      "execution_count": null,
      "outputs": []
    },
    {
      "cell_type": "code",
      "source": [
        "class_obj = [data_science, webdev]"
      ],
      "metadata": {
        "id": "8NdqL3F6_MWY"
      },
      "execution_count": null,
      "outputs": []
    },
    {
      "cell_type": "code",
      "source": [
        "class_parcer(class_obj)"
      ],
      "metadata": {
        "colab": {
          "base_uri": "https://localhost:8080/"
        },
        "id": "HGrguQbW_WVj",
        "outputId": "5f4e26d5-2c41-43b7-e2b5-ac8153f784ab"
      },
      "execution_count": null,
      "outputs": [
        {
          "output_type": "stream",
          "name": "stdout",
          "text": [
            "this is my datascience class\n",
            "this is my web dev class\n"
          ]
        }
      ]
    },
    {
      "cell_type": "markdown",
      "source": [
        "**ENCAPSULATION: **  Encapsul like a tablet."
      ],
      "metadata": {
        "id": "vEAFZCklRi2A"
      }
    },
    {
      "cell_type": "code",
      "source": [
        "class car:\n",
        "  def __init__(self,year,make,model,speed):\n",
        "    self.__year = year\n",
        "    self.__make = make\n",
        "    self.__model = model\n",
        "    self.__speed = 0\n",
        "  def set_speed(self,speed):\n",
        "    self.__speed = 0 if speed < 0 else speed\n",
        "  def get_speed(self):\n",
        "    return self.__speed"
      ],
      "metadata": {
        "id": "-OqV5MfuR6Op"
      },
      "execution_count": null,
      "outputs": []
    },
    {
      "cell_type": "code",
      "source": [
        "c = car(2021,\"toyata\",\"innova\",12)"
      ],
      "metadata": {
        "id": "XWBgLIDoSR4y"
      },
      "execution_count": null,
      "outputs": []
    },
    {
      "cell_type": "code",
      "source": [
        "c.set_speed(12999)\n"
      ],
      "metadata": {
        "id": "YOY-5HAUSfYm"
      },
      "execution_count": null,
      "outputs": []
    },
    {
      "cell_type": "code",
      "source": [
        "c.get_speed()"
      ],
      "metadata": {
        "colab": {
          "base_uri": "https://localhost:8080/"
        },
        "id": "Ej6Lz83lStKl",
        "outputId": "086d4ade-c381-44df-ba52-1cbb986fedae"
      },
      "execution_count": null,
      "outputs": [
        {
          "output_type": "execute_result",
          "data": {
            "text/plain": [
              "12999"
            ]
          },
          "metadata": {},
          "execution_count": 83
        }
      ]
    },
    {
      "cell_type": "code",
      "source": [
        "c._car__year"
      ],
      "metadata": {
        "colab": {
          "base_uri": "https://localhost:8080/"
        },
        "id": "vmaQYQs8Sa8c",
        "outputId": "1922bf12-7349-4abd-9c37-8cb907f2e401"
      },
      "execution_count": null,
      "outputs": [
        {
          "output_type": "execute_result",
          "data": {
            "text/plain": [
              "2021"
            ]
          },
          "metadata": {},
          "execution_count": 70
        }
      ]
    },
    {
      "cell_type": "code",
      "source": [
        "class bank_account:\n",
        "  def __init__(self, balance):\n",
        "    self.__balance = balance\n",
        "  def deposit(self, amount):\n",
        "    self.__balance = self.__balance + amount\n",
        "  def withdraw(self, amount):\n",
        "    if self.__balance >= amount:\n",
        "      self.__balance = self.__balance - amount\n",
        "      return True\n",
        "    else:\n",
        "      print(\"Not sufficient amount\")\n",
        "\n",
        "  def get_balance(self):\n",
        "    return self.__balance"
      ],
      "metadata": {
        "id": "sdecHr1bVmFs"
      },
      "execution_count": null,
      "outputs": []
    },
    {
      "cell_type": "code",
      "source": [
        "sudh = bank_account(1000)"
      ],
      "metadata": {
        "id": "bj4WdW2uVmAm"
      },
      "execution_count": null,
      "outputs": []
    },
    {
      "cell_type": "code",
      "source": [
        "sudh.get_balance()"
      ],
      "metadata": {
        "colab": {
          "base_uri": "https://localhost:8080/"
        },
        "id": "XRlltbm_VltH",
        "outputId": "f7e9e83b-fc8f-47b7-a5fb-ed9fba08f992"
      },
      "execution_count": null,
      "outputs": [
        {
          "output_type": "execute_result",
          "data": {
            "text/plain": [
              "1000"
            ]
          },
          "metadata": {},
          "execution_count": 91
        }
      ]
    },
    {
      "cell_type": "code",
      "source": [
        "sudh.deposit(5000)"
      ],
      "metadata": {
        "id": "yJfwNOJ-V620"
      },
      "execution_count": null,
      "outputs": []
    },
    {
      "cell_type": "code",
      "source": [
        "sudh.withdraw(7000)"
      ],
      "metadata": {
        "colab": {
          "base_uri": "https://localhost:8080/"
        },
        "id": "P7XQjxJGWA07",
        "outputId": "27e71885-4b4d-44df-de5b-588768303eff"
      },
      "execution_count": null,
      "outputs": [
        {
          "output_type": "stream",
          "name": "stdout",
          "text": [
            "Not sufficient amount\n"
          ]
        }
      ]
    },
    {
      "cell_type": "markdown",
      "source": [
        "**INHERITAGE:** Inherit from other or parent."
      ],
      "metadata": {
        "id": "Vaf21VK0pE8f"
      }
    },
    {
      "cell_type": "markdown",
      "source": [
        "Single Inheritance: A child class inherits from one parent class.\n",
        "Multiple Inheritance: A child class inherits from more than one parent class.\n",
        "Multilevel Inheritance: A class is derived from a class which is also derived from another class.\n",
        "Hierarchical Inheritance: Multiple classes inherit from a single parent class.\n",
        "Hybrid Inheritance: A combination of more than one type of inheritance."
      ],
      "metadata": {
        "id": "aZzjuHLCxrKi"
      }
    },
    {
      "cell_type": "code",
      "source": [
        "class class_1:\n",
        "  def class1_test(self):\n",
        "    print(\"This is the first test class\")\n",
        "\n",
        "class class_2(class_1):\n",
        "  def class2_test(self):\n",
        "    print(\"This is the second test class\")\n",
        "\n",
        "class class_3(class_2):\n",
        "  pass\n"
      ],
      "metadata": {
        "id": "gIwPHt2epTWk"
      },
      "execution_count": null,
      "outputs": []
    },
    {
      "cell_type": "code",
      "source": [
        "class_obj= class_3()\n",
        "class_obj.class1_test()\n"
      ],
      "metadata": {
        "colab": {
          "base_uri": "https://localhost:8080/"
        },
        "id": "rjLVmrpIxKMB",
        "outputId": "61f6b3b6-67ed-4b45-cf60-352690dfece1"
      },
      "execution_count": null,
      "outputs": [
        {
          "output_type": "stream",
          "name": "stdout",
          "text": [
            "This is the first test class\n"
          ]
        }
      ]
    },
    {
      "cell_type": "code",
      "source": [
        "class_obj.class2_test()"
      ],
      "metadata": {
        "colab": {
          "base_uri": "https://localhost:8080/"
        },
        "id": "yCAZgf3YxgbH",
        "outputId": "d5773dbd-1f75-43a5-b946-94c9f06b38b0"
      },
      "execution_count": null,
      "outputs": [
        {
          "output_type": "stream",
          "name": "stdout",
          "text": [
            "This is the second test class\n"
          ]
        }
      ]
    },
    {
      "cell_type": "code",
      "source": [
        "class dormitory_1:\n",
        "  def dormitory_room(self):\n",
        "    print(\"This is the first room\")\n",
        "\n",
        "class dormitory_2:\n",
        "  def dormitory_room(self):\n",
        "    print(\"This is the second room\")\n",
        "class dormitory_3(dormitory_1,dormitory_2):\n",
        "  pass"
      ],
      "metadata": {
        "id": "thAbWfkDyPon"
      },
      "execution_count": null,
      "outputs": []
    },
    {
      "cell_type": "code",
      "source": [
        "dormitory3_obj = dormitory_3()"
      ],
      "metadata": {
        "id": "mASpwz2qy4JT"
      },
      "execution_count": null,
      "outputs": []
    },
    {
      "cell_type": "code",
      "source": [
        "dormitory3_obj.dormitory_room()"
      ],
      "metadata": {
        "colab": {
          "base_uri": "https://localhost:8080/"
        },
        "id": "fyLCvlE9zAbF",
        "outputId": "b9857d1c-6277-4dcf-c0cd-6659f588045a"
      },
      "execution_count": null,
      "outputs": [
        {
          "output_type": "stream",
          "name": "stdout",
          "text": [
            "This is the first room\n"
          ]
        }
      ]
    },
    {
      "cell_type": "markdown",
      "source": [
        "# **ABSTRACTION**: Abstraction focuses on hiding the internal implementations of a process or method from the user."
      ],
      "metadata": {
        "id": "Jw3R8Di3zkp_"
      }
    },
    {
      "cell_type": "markdown",
      "source": [
        "For example, people do not think of a car as a set of thousands of individual parts. Instead they see it as a well-defined object with its own unique behavior. This abstraction allows people to use a car to drive without knowing the complexity of the parts that form the car. They can ignore the details of how the engine transmission, and braking systems work. Instead, they are free to utilize the object as a whole."
      ],
      "metadata": {
        "id": "gSakQqTh13T4"
      }
    },
    {
      "cell_type": "code",
      "source": [
        "import abc\n",
        "class ranikamalapati:\n",
        "  @abc.abstractclassmethod\n",
        "  def platform(self):\n",
        "    pass\n",
        "  @abc.abstractclassmethod\n",
        "  def dormitory(self):\n",
        "    pass\n",
        "  @abc.abstractclassmethod\n",
        "  def platform3(self):\n",
        "    pass"
      ],
      "metadata": {
        "id": "H8clB2IX18i5"
      },
      "execution_count": null,
      "outputs": []
    },
    {
      "cell_type": "code",
      "source": [
        "class platform101(ranikamalapati):\n",
        "  def platform(self):\n",
        "    return \"this is my platform1\"\n",
        "  def dormitory(self):\n",
        "    return \"The dormitory is in platform1\"\n",
        "\n",
        "class platform201(ranikamalapati):\n",
        "  def platform(self):\n",
        "    return \"This is 2nd platform\"\n",
        "  def dormitory(self):\n",
        "    return \"The dormitory isn't in the platform2\"\n",
        "class platform301(ranikamalapati):\n",
        "  def platform(self):\n",
        "    return \"This is 2nd platform\"\n",
        "  def dormitory(self):\n",
        "    return \"The dormitory isn't in the platform3\""
      ],
      "metadata": {
        "id": "et98JB3H4Rrm"
      },
      "execution_count": null,
      "outputs": []
    },
    {
      "source": [
        "pdf = platform301()\n",
        "pdf.platform()"
      ],
      "cell_type": "code",
      "metadata": {
        "colab": {
          "base_uri": "https://localhost:8080/",
          "height": 36
        },
        "id": "q8GIM7Rc6_oh",
        "outputId": "a5bc3fa1-32bf-47c6-8c0e-c5e01d783f8e"
      },
      "execution_count": null,
      "outputs": [
        {
          "output_type": "execute_result",
          "data": {
            "text/plain": [
              "'This is 2nd platform'"
            ],
            "application/vnd.google.colaboratory.intrinsic+json": {
              "type": "string"
            }
          },
          "metadata": {},
          "execution_count": 18
        }
      ]
    },
    {
      "cell_type": "markdown",
      "source": [
        "**DECORATORS:** are a powerful and flexible way to modify or extend the behavior of functions or methods, without changing their actual code. A decorator is essentially a function that takes another function as an argument and returns a new function with enhanced functionality."
      ],
      "metadata": {
        "id": "VloE76rkO6fN"
      }
    },
    {
      "cell_type": "code",
      "source": [
        "import time\n",
        "def timer_test(func):\n",
        "  def timer_test_inner():\n",
        "    start = time.time()\n",
        "    func()\n",
        "    end = time.time()\n",
        "    print(end-start)\n",
        "  return timer_test_inner"
      ],
      "metadata": {
        "id": "Q9mAO_ZSQRO2"
      },
      "execution_count": null,
      "outputs": []
    },
    {
      "cell_type": "code",
      "source": [
        "def test1():\n",
        "  print(45+78)"
      ],
      "metadata": {
        "id": "48uAYv4DQeBu"
      },
      "execution_count": null,
      "outputs": []
    },
    {
      "cell_type": "code",
      "source": [
        "test1()"
      ],
      "metadata": {
        "colab": {
          "base_uri": "https://localhost:8080/"
        },
        "id": "QZb8q-bZQhw_",
        "outputId": "62cf8789-9936-4d25-ef66-d19058130325"
      },
      "execution_count": null,
      "outputs": [
        {
          "output_type": "stream",
          "name": "stdout",
          "text": [
            "123\n"
          ]
        }
      ]
    },
    {
      "cell_type": "code",
      "source": [
        "@timer_test\n",
        "def test1():\n",
        "  print(45+78)"
      ],
      "metadata": {
        "id": "eGbZNa3CQnvw"
      },
      "execution_count": null,
      "outputs": []
    },
    {
      "cell_type": "code",
      "source": [
        "test1()"
      ],
      "metadata": {
        "colab": {
          "base_uri": "https://localhost:8080/"
        },
        "id": "3JNCd15dRNkS",
        "outputId": "be6d1d33-e359-4a53-fc22-7e3b50014028"
      },
      "execution_count": null,
      "outputs": [
        {
          "output_type": "stream",
          "name": "stdout",
          "text": [
            "123\n",
            "0.0002613067626953125\n"
          ]
        }
      ]
    },
    {
      "cell_type": "markdown",
      "source": [
        "SPECIAL( MAGIC or DUNDER) Method"
      ],
      "metadata": {
        "id": "Svf-YeIxUxK4"
      }
    },
    {
      "cell_type": "code",
      "source": [
        "class rkmp:\n",
        "  def __init__(self):\n",
        "    self.mobile_number = 955648651\n",
        "  def __str__(self):\n",
        "    return \"this is my magic call of str\""
      ],
      "metadata": {
        "id": "aE0yaYfMgdu0"
      },
      "execution_count": null,
      "outputs": []
    },
    {
      "cell_type": "code",
      "source": [
        "psw = rkmp()\n",
        "psw"
      ],
      "metadata": {
        "colab": {
          "base_uri": "https://localhost:8080/"
        },
        "id": "19Px7cOAgxlU",
        "outputId": "d2df12fb-b96c-45bc-b842-9cd1bab92715"
      },
      "execution_count": null,
      "outputs": [
        {
          "output_type": "execute_result",
          "data": {
            "text/plain": [
              "<__main__.rkmp at 0x7cc6b2531850>"
            ]
          },
          "metadata": {},
          "execution_count": 25
        }
      ]
    },
    {
      "cell_type": "code",
      "source": [
        "print(psw)"
      ],
      "metadata": {
        "colab": {
          "base_uri": "https://localhost:8080/"
        },
        "id": "IITRxl-Mg6pS",
        "outputId": "7b027260-bb7b-4f9c-c165-cb3eb939a9d6"
      },
      "execution_count": null,
      "outputs": [
        {
          "output_type": "stream",
          "name": "stdout",
          "text": [
            "this is my magic call of str\n"
          ]
        }
      ]
    },
    {
      "cell_type": "code",
      "source": [
        "a= 100\n",
        "a+5"
      ],
      "metadata": {
        "colab": {
          "base_uri": "https://localhost:8080/"
        },
        "id": "XZfXIO3ihDA8",
        "outputId": "a94ad188-837d-415b-eb99-91226da2eecf"
      },
      "execution_count": null,
      "outputs": [
        {
          "output_type": "execute_result",
          "data": {
            "text/plain": [
              "105"
            ]
          },
          "metadata": {},
          "execution_count": 27
        }
      ]
    },
    {
      "cell_type": "code",
      "source": [
        "# With the help of magic method/function.\n",
        "b = 103\n",
        "b.__add__(5)"
      ],
      "metadata": {
        "colab": {
          "base_uri": "https://localhost:8080/"
        },
        "id": "juD8RkUThaEd",
        "outputId": "8823be54-9667-4ddb-cf4b-b4d79055575c"
      },
      "execution_count": null,
      "outputs": [
        {
          "output_type": "execute_result",
          "data": {
            "text/plain": [
              "108"
            ]
          },
          "metadata": {},
          "execution_count": 28
        }
      ]
    },
    {
      "cell_type": "markdown",
      "source": [
        "## Working with **Files**"
      ],
      "metadata": {
        "id": "X7SjwOKYNE_u"
      }
    },
    {
      "cell_type": "code",
      "source": [
        "from google.colab import drive\n",
        "drive.mount('/content/drive')"
      ],
      "metadata": {
        "id": "OMhSoqAaN2RH"
      },
      "execution_count": null,
      "outputs": []
    },
    {
      "cell_type": "code",
      "source": [
        "f = open(\"test.txt\", \"w\")"
      ],
      "metadata": {
        "id": "TKXVwvDENNAh"
      },
      "execution_count": null,
      "outputs": []
    },
    {
      "cell_type": "code",
      "source": [
        "pwd"
      ],
      "metadata": {
        "colab": {
          "base_uri": "https://localhost:8080/",
          "height": 36
        },
        "id": "N0qrsFu6Nb34",
        "outputId": "9d898ec8-c0b2-4803-81cc-1f971a7ecfb9"
      },
      "execution_count": null,
      "outputs": [
        {
          "output_type": "execute_result",
          "data": {
            "text/plain": [
              "'/content'"
            ],
            "application/vnd.google.colaboratory.intrinsic+json": {
              "type": "string"
            }
          },
          "metadata": {},
          "execution_count": 2
        }
      ]
    },
    {
      "cell_type": "code",
      "source": [
        "ls"
      ],
      "metadata": {
        "colab": {
          "base_uri": "https://localhost:8080/"
        },
        "id": "RKYN_BZBOMP3",
        "outputId": "e0fa6457-fa9a-4bfa-f439-5aefc2354fba"
      },
      "execution_count": null,
      "outputs": [
        {
          "output_type": "stream",
          "name": "stdout",
          "text": [
            "\u001b[0m\u001b[01;34msample_data\u001b[0m/  test.txt\n"
          ]
        }
      ]
    },
    {
      "cell_type": "code",
      "source": [
        "f.write(\" This is my first file to write\")"
      ],
      "metadata": {
        "colab": {
          "base_uri": "https://localhost:8080/"
        },
        "id": "wgxjXORdOWc4",
        "outputId": "874f49d9-02b9-4066-b8c5-d814ffec3f38"
      },
      "execution_count": null,
      "outputs": [
        {
          "output_type": "execute_result",
          "data": {
            "text/plain": [
              "31"
            ]
          },
          "metadata": {},
          "execution_count": 4
        }
      ]
    },
    {
      "cell_type": "code",
      "source": [
        "f.close()"
      ],
      "metadata": {
        "id": "hWpAlbR_Otmy"
      },
      "execution_count": null,
      "outputs": []
    },
    {
      "cell_type": "code",
      "source": [
        "f = open(\"test.txt\",\"w\")"
      ],
      "metadata": {
        "id": "u0AEDyDhOz7Z"
      },
      "execution_count": null,
      "outputs": []
    },
    {
      "cell_type": "code",
      "source": [
        "f.write(\"This is my new one\")"
      ],
      "metadata": {
        "colab": {
          "base_uri": "https://localhost:8080/"
        },
        "id": "HN1JtE2jO_Wl",
        "outputId": "4de6ff58-fe10-4662-d56a-fddfbf429aab"
      },
      "execution_count": null,
      "outputs": [
        {
          "output_type": "execute_result",
          "data": {
            "text/plain": [
              "18"
            ]
          },
          "metadata": {},
          "execution_count": 7
        }
      ]
    },
    {
      "cell_type": "code",
      "source": [
        "f.close()"
      ],
      "metadata": {
        "id": "1E0omAmVPH0b"
      },
      "execution_count": null,
      "outputs": []
    },
    {
      "cell_type": "code",
      "source": [
        "f = open(\"test.txt\",\"a\")\n",
        "f.write(\"Jay kumar is a good boy. He is going to bhopal.\")"
      ],
      "metadata": {
        "colab": {
          "base_uri": "https://localhost:8080/"
        },
        "id": "K7AgurzRPcBp",
        "outputId": "4ea6eb05-b734-43a4-dcda-895bb7914d4f"
      },
      "execution_count": null,
      "outputs": [
        {
          "output_type": "execute_result",
          "data": {
            "text/plain": [
              "47"
            ]
          },
          "metadata": {},
          "execution_count": 9
        }
      ]
    },
    {
      "cell_type": "code",
      "source": [
        "f.close()"
      ],
      "metadata": {
        "id": "J-1tYsAaPvD1"
      },
      "execution_count": null,
      "outputs": []
    },
    {
      "cell_type": "code",
      "source": [
        "f = open(\"test.txt\",\"r\")\n",
        "f.read()\n",
        "f.seek(0) # point to the 0 index.\n",
        "f.readline()"
      ],
      "metadata": {
        "colab": {
          "base_uri": "https://localhost:8080/",
          "height": 36
        },
        "id": "ncgZOfBJP9U4",
        "outputId": "1243e11f-11a7-48aa-9e03-47bb43ac282f"
      },
      "execution_count": null,
      "outputs": [
        {
          "output_type": "execute_result",
          "data": {
            "text/plain": [
              "'This is my new onefile to writeJay kumar is a good boy. He is going to bhopal.'"
            ],
            "application/vnd.google.colaboratory.intrinsic+json": {
              "type": "string"
            }
          },
          "metadata": {},
          "execution_count": 14
        }
      ]
    },
    {
      "cell_type": "code",
      "source": [
        "import os\n",
        "os.path.getsize(\"test.txt\") # give the actual size of the file.\n",
        "os.remove(\"test.txt\") # this will remove the file."
      ],
      "metadata": {
        "id": "46vfoeMZQvbb"
      },
      "execution_count": null,
      "outputs": []
    },
    {
      "cell_type": "code",
      "source": [
        "f = open(\"test1.txt\",\"w\")\n",
        "f.write(\"This is my first file to write\")\n",
        "f.close()"
      ],
      "metadata": {
        "id": "gCjPMtqtROuj"
      },
      "execution_count": null,
      "outputs": []
    },
    {
      "cell_type": "code",
      "source": [
        "os.rename(\"test1.txt\",\"test.txt\")"
      ],
      "metadata": {
        "id": "YaSDqSwWRdnS"
      },
      "execution_count": null,
      "outputs": []
    },
    {
      "cell_type": "code",
      "source": [
        "with open(\"test.txt\",\"r\") as f:\n",
        "  print(f.read())"
      ],
      "metadata": {
        "colab": {
          "base_uri": "https://localhost:8080/"
        },
        "id": "TmuZeyUfR3r3",
        "outputId": "fd064d5d-6193-42d4-d49e-42c8403921db"
      },
      "execution_count": null,
      "outputs": [
        {
          "output_type": "stream",
          "name": "stdout",
          "text": [
            "This is my first file to write\n"
          ]
        }
      ]
    },
    {
      "cell_type": "markdown",
      "source": [
        "Files reading and Writing\n"
      ],
      "metadata": {
        "id": "x-QHcFgNSvOT"
      }
    },
    {
      "cell_type": "code",
      "source": [
        "data = {\n",
        "    \"name\": \"sudh\",\n",
        "    \"mail_id\": \"sudh@gmail.com\",\n",
        "    \"phone_number\": 9876543210,\n",
        "    \"subject\": [\"data science\", \"big data\", \"data analytics\"]\n",
        "}\n"
      ],
      "metadata": {
        "id": "1vnBf6EDSz74"
      },
      "execution_count": null,
      "outputs": []
    },
    {
      "cell_type": "code",
      "source": [
        "import json"
      ],
      "metadata": {
        "id": "yF7yDxIgS114"
      },
      "execution_count": null,
      "outputs": []
    },
    {
      "cell_type": "code",
      "source": [
        "with open(\"data.json\",\"w\") as f:\n",
        "  json.dump(data,f)"
      ],
      "metadata": {
        "id": "4GFQzGMSTFlY"
      },
      "execution_count": null,
      "outputs": []
    },
    {
      "cell_type": "code",
      "source": [
        "with open(\"data.json\",\"r\") as f:\n",
        "  data1 = json.load(f)\n",
        "data1"
      ],
      "metadata": {
        "colab": {
          "base_uri": "https://localhost:8080/"
        },
        "id": "_E5wbxUyT19F",
        "outputId": "9bc6e938-2873-45bf-e988-a0de8eb07afd"
      },
      "execution_count": null,
      "outputs": [
        {
          "output_type": "execute_result",
          "data": {
            "text/plain": [
              "{'name': 'sudh',\n",
              " 'mail_id': 'sudh@gmail.com',\n",
              " 'phone_number': 9876543210,\n",
              " 'subject': ['data science', 'big data', 'data analytics']}"
            ]
          },
          "metadata": {},
          "execution_count": 25
        }
      ]
    },
    {
      "cell_type": "code",
      "source": [
        "data1['subject'][1]"
      ],
      "metadata": {
        "colab": {
          "base_uri": "https://localhost:8080/",
          "height": 36
        },
        "id": "As7fVdj6U2dd",
        "outputId": "571f3836-933b-46ed-c5ac-13d44012fe73"
      },
      "execution_count": null,
      "outputs": [
        {
          "output_type": "execute_result",
          "data": {
            "text/plain": [
              "'big data'"
            ],
            "application/vnd.google.colaboratory.intrinsic+json": {
              "type": "string"
            }
          },
          "metadata": {},
          "execution_count": 26
        }
      ]
    },
    {
      "cell_type": "markdown",
      "source": [
        "Write and reading data in csv files\n"
      ],
      "metadata": {
        "id": "Cod93cO3U-C9"
      }
    },
    {
      "cell_type": "code",
      "source": [
        "import csv"
      ],
      "metadata": {
        "id": "Uh7PedvpVKNe"
      },
      "execution_count": null,
      "outputs": []
    },
    {
      "cell_type": "code",
      "source": [
        "data = [\n",
        "    [\"name\", \"email_id\", \"number\"],\n",
        "    [\"sudh\", \"sudh@gmail.com\", 9876543210],\n",
        "    [\"krish\", \"krish@gmail.com\", 8765432109]\n",
        "]"
      ],
      "metadata": {
        "id": "B45aeE1hU9Ym"
      },
      "execution_count": null,
      "outputs": []
    },
    {
      "cell_type": "code",
      "source": [
        "with open(\"data.csv\",\"w\") as f:\n",
        "  writer = csv.writer(f)\n",
        "  for i in data:\n",
        "    writer.writerow(i)"
      ],
      "metadata": {
        "id": "q5WfGZW3VQbl"
      },
      "execution_count": null,
      "outputs": []
    },
    {
      "cell_type": "code",
      "source": [
        "with open(\"data.csv\",\"r\") as f:\n",
        "  read_data= csv.reader(f)\n",
        "  for i in read_data:\n",
        "    print(i)\n"
      ],
      "metadata": {
        "colab": {
          "base_uri": "https://localhost:8080/"
        },
        "id": "Kmyvq0SmWhXt",
        "outputId": "e94e7c4f-bf98-47d8-e954-17981187a742"
      },
      "execution_count": null,
      "outputs": [
        {
          "output_type": "stream",
          "name": "stdout",
          "text": [
            "['name', 'email_id', 'number']\n",
            "['sudh', 'sudh@gmail.com', '9876543210']\n",
            "['krish', 'krish@gmail.com', '8765432109']\n"
          ]
        }
      ]
    },
    {
      "cell_type": "markdown",
      "source": [
        "storing binary data\n"
      ],
      "metadata": {
        "id": "n3t3sCeqXFAr"
      }
    },
    {
      "cell_type": "code",
      "source": [
        "with open(\"text.bin\",\"wb\") as f:\n",
        "  f.write(b\"\\x01\\x02\\x03\")"
      ],
      "metadata": {
        "id": "h9WOufafXI-O"
      },
      "execution_count": null,
      "outputs": []
    },
    {
      "cell_type": "code",
      "source": [
        "with open(\"text.bin\",\"rb\") as f:\n",
        "  print(f.read())"
      ],
      "metadata": {
        "colab": {
          "base_uri": "https://localhost:8080/"
        },
        "id": "qD5Op6DqX04t",
        "outputId": "cb385890-494f-4de4-e93a-f17c94d1b1fd"
      },
      "execution_count": null,
      "outputs": [
        {
          "output_type": "stream",
          "name": "stdout",
          "text": [
            "b'\\x01\\x02\\x03'\n"
          ]
        }
      ]
    },
    {
      "cell_type": "markdown",
      "source": [
        "buffered mode read and write files"
      ],
      "metadata": {
        "id": "_fuWAjShfUq9"
      }
    },
    {
      "cell_type": "code",
      "source": [
        "import io\n",
        "with open(\"Test1.txt\",\"wb\") as f:\n",
        "  file = io.BufferedWriter(f)\n",
        "  file.write(b\"This is my first line\\n\")\n",
        "  file.write(b\"This is my second line\\n\")\n",
        "  file.flush()"
      ],
      "metadata": {
        "id": "fd7aBeG_fYFa"
      },
      "execution_count": null,
      "outputs": []
    },
    {
      "cell_type": "markdown",
      "source": [
        "# Logging debuggers"
      ],
      "metadata": {
        "id": "hN7f3V-QiV0f"
      }
    },
    {
      "cell_type": "code",
      "source": [
        "print(\"This is print the statement into console\") # will print the statement into console."
      ],
      "metadata": {
        "colab": {
          "base_uri": "https://localhost:8080/"
        },
        "id": "RQDI_CtxiaqL",
        "outputId": "a7b904e4-3879-4a21-f52e-18a4ffcc59e1"
      },
      "execution_count": null,
      "outputs": [
        {
          "output_type": "stream",
          "name": "stdout",
          "text": [
            "This is print the statement into console\n"
          ]
        }
      ]
    },
    {
      "cell_type": "code",
      "source": [
        "import logging"
      ],
      "metadata": {
        "id": "gNYesrh3il0I"
      },
      "execution_count": null,
      "outputs": []
    },
    {
      "cell_type": "code",
      "source": [
        "logging.basicConfig(filename = \"test.log\", level = logging.INFO)"
      ],
      "metadata": {
        "id": "GnRYgy9Riooi"
      },
      "execution_count": null,
      "outputs": []
    },
    {
      "cell_type": "code",
      "source": [
        "logging.info(\"This is my info log\")\n",
        "logging.warning(\"This is my warning log\")\n",
        "logging.error(\"This is my error log\")\n",
        "logging.debug(\"This is my debug log\")"
      ],
      "metadata": {
        "colab": {
          "base_uri": "https://localhost:8080/"
        },
        "id": "BC5jnaIFi0Cq",
        "outputId": "99b32edb-c608-4742-bb63-e97ebcd8c212"
      },
      "execution_count": null,
      "outputs": [
        {
          "output_type": "stream",
          "name": "stderr",
          "text": [
            "WARNING:root:This is my warning log\n",
            "ERROR:root:This is my error log\n"
          ]
        }
      ]
    },
    {
      "cell_type": "code",
      "source": [
        "logging.shutdown()"
      ],
      "metadata": {
        "id": "qdJr9BLqkm1E"
      },
      "execution_count": null,
      "outputs": []
    },
    {
      "cell_type": "markdown",
      "source": [
        "A debug log is a detailed record of events that occur during the execution of a software program. Think of it as a black box recorder for your application. It meticulously captures information about what the code is doing, providing developers with a crucial tool for diagnosing problems.\n",
        "1. NOTSET\n",
        "2. DEBUG\n",
        "3. WARNING\n",
        "4. ERROR\n",
        "5. INFO\n",
        "6. CRITICAL"
      ],
      "metadata": {
        "id": "hbsAT09PjSVF"
      }
    },
    {
      "cell_type": "code",
      "source": [
        "logging.basicConfig(filename = \"test1.log\", level = logging.DEBUG, format = '%(asctime)s %(message)s')"
      ],
      "metadata": {
        "id": "YX3kBo1IjcXi"
      },
      "execution_count": null,
      "outputs": []
    },
    {
      "cell_type": "code",
      "source": [
        "logging.info(\"This is my info log\")\n",
        "logging.warning(\"This is my warning log\")\n",
        "logging.error(\"This is my error log\")\n",
        "logging.debug(\"This is my debug log\")"
      ],
      "metadata": {
        "colab": {
          "base_uri": "https://localhost:8080/"
        },
        "id": "kA-NsoWHkzPX",
        "outputId": "f75dfb97-d60b-4304-e865-14f988e978c0"
      },
      "execution_count": null,
      "outputs": [
        {
          "output_type": "stream",
          "name": "stderr",
          "text": [
            "WARNING:root:This is my warning log\n",
            "ERROR:root:This is my error log\n"
          ]
        }
      ]
    },
    {
      "cell_type": "code",
      "source": [
        "!ls\n",
        "!cd sample_data"
      ],
      "metadata": {
        "colab": {
          "base_uri": "https://localhost:8080/"
        },
        "id": "3RNl7VG2lN0M",
        "outputId": "ad916168-f6ee-4eb4-fbbf-5c3fb6ce5aa5"
      },
      "execution_count": null,
      "outputs": [
        {
          "output_type": "stream",
          "name": "stdout",
          "text": [
            "data.csv  data.json  sample_data  Test1.txt  test.txt  text.bin\n"
          ]
        }
      ]
    },
    {
      "cell_type": "code",
      "source": [
        "ls\n"
      ],
      "metadata": {
        "id": "LIfqtDBblxbu",
        "outputId": "6f0d9d46-5234-43da-ce39-fb0295cc6d34",
        "colab": {
          "base_uri": "https://localhost:8080/"
        }
      },
      "execution_count": null,
      "outputs": [
        {
          "output_type": "stream",
          "name": "stdout",
          "text": [
            "data.csv  data.json  \u001b[0m\u001b[01;34msample_data\u001b[0m/  Test1.txt  test.txt  text.bin\n"
          ]
        }
      ]
    }
  ]
}